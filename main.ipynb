{
 "cells": [
  {
   "cell_type": "markdown",
   "metadata": {},
   "source": [
    "<h1 style=\"text-align: center;\">Hit Analyzer</h1>\n",
    "<h2 style=\"text-align: center;\">By: Thomas Giewont, Shreyas Vaidya, and Thomas Varano</h2>"
   ]
  },
  {
   "cell_type": "markdown",
   "metadata": {},
   "source": [
    "<br>\n",
    "<h3 style=\"text-align: center;\">Introduction</h3>\n",
    "<p> This is the Introduction. </p>"
   ]
  },
  {
   "cell_type": "markdown",
   "metadata": {},
   "source": [
    "<h3 style=\"text-align: center;\">Imports and Data Setup</h3>"
   ]
  },
  {
   "cell_type": "code",
   "execution_count": 1,
   "metadata": {},
   "outputs": [],
   "source": [
    "import pandas as pd\n",
    "import numpy as np\n",
    "import datetime\n",
    "from datetime import timedelta\n",
    "import matplotlib.pyplot as plt\n",
    "import math"
   ]
  },
  {
   "cell_type": "markdown",
   "metadata": {},
   "source": [
    "<h3 style=\"text-align: center;\">Data Collection and Curation</h3>"
   ]
  },
  {
   "cell_type": "code",
   "execution_count": 2,
   "metadata": {},
   "outputs": [],
   "source": [
    "df = pd.read_csv('https://query.data.world/s/aofqalvgkuabshmmlxm32rxk3t3yiq')"
   ]
  },
  {
   "cell_type": "code",
   "execution_count": 3,
   "metadata": {},
   "outputs": [],
   "source": [
    "df = df.drop(columns=['url'])\n",
    "df = df.rename(columns={'WeekID': 'week', 'Week Position': 'week_position', 'Song': 'song', 'Performer': 'performer', 'SongID': 'songid', 'Instance': 'instance', 'Previous Week Position': 'prev_week_position', 'Peak Position': 'peak_position', 'Weeks on Chart': 'weeks_on_chart'})"
   ]
  },
  {
   "cell_type": "code",
   "execution_count": 4,
   "metadata": {},
   "outputs": [],
   "source": [
    "df = df.astype({\"week\": 'datetime64'})"
   ]
  },
  {
   "cell_type": "code",
   "execution_count": 5,
   "metadata": {},
   "outputs": [],
   "source": [
    "# stuff after 2000... obvi remove\n",
    "df = df[df.week > pd.to_datetime(datetime.date(2000, 1, 1))]\n"
   ]
  },
  {
   "cell_type": "code",
   "execution_count": 6,
   "metadata": {},
   "outputs": [],
   "source": [
    "# make a copy incase we fuck some data\n",
    "dfcpy = df.copy()"
   ]
  },
  {
   "cell_type": "code",
   "execution_count": 7,
   "metadata": {},
   "outputs": [],
   "source": [
    "# restore df\n",
    "df = dfcpy.copy()"
   ]
  },
  {
   "cell_type": "markdown",
   "metadata": {},
   "source": [
    "<h3 style=\"text-align: center;\">Data Analysis</h3>"
   ]
  },
  {
   "cell_type": "markdown",
   "metadata": {},
   "source": [
    "#### Hypothesis:\n",
    "We believe that every song follows a similar trend when they reach the Billboard Top 100."
   ]
  },
  {
   "cell_type": "code",
   "execution_count": 8,
   "metadata": {},
   "outputs": [],
   "source": [
    "# remove weird nans\n",
    "# tm = df.loc[:, df.columns != 'prev_week_position']\n",
    "df = df.dropna(subset=['week', 'week_position', 'song', 'performer', 'songid', 'instance', 'peak_position', 'weeks_on_chart'])\n"
   ]
  },
  {
   "cell_type": "code",
   "execution_count": 9,
   "metadata": {},
   "outputs": [
    {
     "output_type": "execute_result",
     "data": {
      "text/plain": [
       "             week  week_position                          song  \\\n",
       "197    2001-02-17             79                    Don't Talk   \n",
       "213    2014-07-12             89                Don't Tell 'Em   \n",
       "291    2004-04-03             65                 Don't Tell Me   \n",
       "311    2000-12-09             78                 Don't Tell Me   \n",
       "322    2019-12-07             55              Into The Unknown   \n",
       "...           ...            ...                           ...   \n",
       "325591 2008-07-05             93     You Look Good In My Shirt   \n",
       "325608 2017-04-22             60                 You Look Good   \n",
       "325611 2017-05-20             94                 You Look Good   \n",
       "325628 2016-08-27            100  You Look Like I Need A Drink   \n",
       "325685 2018-02-10             28              You Make It Easy   \n",
       "\n",
       "                    performer                                    songid  \\\n",
       "197                     Jon B                           Don't TalkJon B   \n",
       "213      Jeremih Featuring YG        Don't Tell 'EmJeremih Featuring YG   \n",
       "291             Avril Lavigne                Don't Tell MeAvril Lavigne   \n",
       "311                   Madonna                      Don't Tell MeMadonna   \n",
       "322     Idina Menzel & AURORA     Into The UnknownIdina Menzel & AURORA   \n",
       "...                       ...                                       ...   \n",
       "325591            Keith Urban      You Look Good In My ShirtKeith Urban   \n",
       "325608        Lady Antebellum              You Look GoodLady Antebellum   \n",
       "325611        Lady Antebellum              You Look GoodLady Antebellum   \n",
       "325628           Justin Moore  You Look Like I Need A DrinkJustin Moore   \n",
       "325685           Jason Aldean              You Make It EasyJason Aldean   \n",
       "\n",
       "        instance  prev_week_position  peak_position  weeks_on_chart  \n",
       "197          1.0                 NaN           79.0             1.0  \n",
       "213          1.0                 NaN           89.0             1.0  \n",
       "291          1.0                 NaN           65.0             1.0  \n",
       "311          1.0                 NaN           78.0             1.0  \n",
       "322          1.0                 NaN           55.0             1.0  \n",
       "...          ...                 ...            ...             ...  \n",
       "325591       1.0                 NaN           93.0             1.0  \n",
       "325608       1.0                 NaN           60.0             1.0  \n",
       "325611       2.0                 NaN           94.0             4.0  \n",
       "325628       1.0                 NaN          100.0             1.0  \n",
       "325685       1.0                 NaN           28.0             1.0  \n",
       "\n",
       "[9463 rows x 9 columns]"
      ],
      "text/html": "<div>\n<style scoped>\n    .dataframe tbody tr th:only-of-type {\n        vertical-align: middle;\n    }\n\n    .dataframe tbody tr th {\n        vertical-align: top;\n    }\n\n    .dataframe thead th {\n        text-align: right;\n    }\n</style>\n<table border=\"1\" class=\"dataframe\">\n  <thead>\n    <tr style=\"text-align: right;\">\n      <th></th>\n      <th>week</th>\n      <th>week_position</th>\n      <th>song</th>\n      <th>performer</th>\n      <th>songid</th>\n      <th>instance</th>\n      <th>prev_week_position</th>\n      <th>peak_position</th>\n      <th>weeks_on_chart</th>\n    </tr>\n  </thead>\n  <tbody>\n    <tr>\n      <th>197</th>\n      <td>2001-02-17</td>\n      <td>79</td>\n      <td>Don't Talk</td>\n      <td>Jon B</td>\n      <td>Don't TalkJon B</td>\n      <td>1.0</td>\n      <td>NaN</td>\n      <td>79.0</td>\n      <td>1.0</td>\n    </tr>\n    <tr>\n      <th>213</th>\n      <td>2014-07-12</td>\n      <td>89</td>\n      <td>Don't Tell 'Em</td>\n      <td>Jeremih Featuring YG</td>\n      <td>Don't Tell 'EmJeremih Featuring YG</td>\n      <td>1.0</td>\n      <td>NaN</td>\n      <td>89.0</td>\n      <td>1.0</td>\n    </tr>\n    <tr>\n      <th>291</th>\n      <td>2004-04-03</td>\n      <td>65</td>\n      <td>Don't Tell Me</td>\n      <td>Avril Lavigne</td>\n      <td>Don't Tell MeAvril Lavigne</td>\n      <td>1.0</td>\n      <td>NaN</td>\n      <td>65.0</td>\n      <td>1.0</td>\n    </tr>\n    <tr>\n      <th>311</th>\n      <td>2000-12-09</td>\n      <td>78</td>\n      <td>Don't Tell Me</td>\n      <td>Madonna</td>\n      <td>Don't Tell MeMadonna</td>\n      <td>1.0</td>\n      <td>NaN</td>\n      <td>78.0</td>\n      <td>1.0</td>\n    </tr>\n    <tr>\n      <th>322</th>\n      <td>2019-12-07</td>\n      <td>55</td>\n      <td>Into The Unknown</td>\n      <td>Idina Menzel &amp; AURORA</td>\n      <td>Into The UnknownIdina Menzel &amp; AURORA</td>\n      <td>1.0</td>\n      <td>NaN</td>\n      <td>55.0</td>\n      <td>1.0</td>\n    </tr>\n    <tr>\n      <th>...</th>\n      <td>...</td>\n      <td>...</td>\n      <td>...</td>\n      <td>...</td>\n      <td>...</td>\n      <td>...</td>\n      <td>...</td>\n      <td>...</td>\n      <td>...</td>\n    </tr>\n    <tr>\n      <th>325591</th>\n      <td>2008-07-05</td>\n      <td>93</td>\n      <td>You Look Good In My Shirt</td>\n      <td>Keith Urban</td>\n      <td>You Look Good In My ShirtKeith Urban</td>\n      <td>1.0</td>\n      <td>NaN</td>\n      <td>93.0</td>\n      <td>1.0</td>\n    </tr>\n    <tr>\n      <th>325608</th>\n      <td>2017-04-22</td>\n      <td>60</td>\n      <td>You Look Good</td>\n      <td>Lady Antebellum</td>\n      <td>You Look GoodLady Antebellum</td>\n      <td>1.0</td>\n      <td>NaN</td>\n      <td>60.0</td>\n      <td>1.0</td>\n    </tr>\n    <tr>\n      <th>325611</th>\n      <td>2017-05-20</td>\n      <td>94</td>\n      <td>You Look Good</td>\n      <td>Lady Antebellum</td>\n      <td>You Look GoodLady Antebellum</td>\n      <td>2.0</td>\n      <td>NaN</td>\n      <td>94.0</td>\n      <td>4.0</td>\n    </tr>\n    <tr>\n      <th>325628</th>\n      <td>2016-08-27</td>\n      <td>100</td>\n      <td>You Look Like I Need A Drink</td>\n      <td>Justin Moore</td>\n      <td>You Look Like I Need A DrinkJustin Moore</td>\n      <td>1.0</td>\n      <td>NaN</td>\n      <td>100.0</td>\n      <td>1.0</td>\n    </tr>\n    <tr>\n      <th>325685</th>\n      <td>2018-02-10</td>\n      <td>28</td>\n      <td>You Make It Easy</td>\n      <td>Jason Aldean</td>\n      <td>You Make It EasyJason Aldean</td>\n      <td>1.0</td>\n      <td>NaN</td>\n      <td>28.0</td>\n      <td>1.0</td>\n    </tr>\n  </tbody>\n</table>\n<p>9463 rows × 9 columns</p>\n</div>"
     },
     "metadata": {},
     "execution_count": 9
    }
   ],
   "source": [
    "df[df.prev_week_position.isna()]\n"
   ]
  },
  {
   "cell_type": "code",
   "execution_count": 10,
   "metadata": {},
   "outputs": [],
   "source": [
    "# make dataframe to keep track of song-wide data\n",
    "\n",
    "song_info = df.drop_duplicates(subset=['songid']).drop(columns=['week', 'week_position', 'instance', 'prev_week_position', 'peak_position', 'weeks_on_chart']).set_index('songid')\n",
    "# song_info = pd.DataFrame(data=[tmp_df.songid, tmp_df.song, tmp_df.song])\n",
    "# song_info = {s: {'song': r.song, 'performer': r.song} for s, r in tmp_df.iterrows()}"
   ]
  },
  {
   "cell_type": "code",
   "execution_count": 24,
   "metadata": {},
   "outputs": [
    {
     "output_type": "execute_result",
     "data": {
      "text/plain": [
       "             week  week_position  song                         performer  \\\n",
       "27     2010-03-27             12  Baby  Justin Bieber Featuring Ludacris   \n",
       "872    2010-02-06              5  Baby  Justin Bieber Featuring Ludacris   \n",
       "20955  2010-04-03             10  Baby  Justin Bieber Featuring Ludacris   \n",
       "38947  2010-04-10              8  Baby  Justin Bieber Featuring Ludacris   \n",
       "63761  2010-04-24              9  Baby  Justin Bieber Featuring Ludacris   \n",
       "77672  2010-04-17              8  Baby  Justin Bieber Featuring Ludacris   \n",
       "83910  2010-05-08             21  Baby  Justin Bieber Featuring Ludacris   \n",
       "98838  2010-02-13             25  Baby  Justin Bieber Featuring Ludacris   \n",
       "144451 2010-05-15             26  Baby  Justin Bieber Featuring Ludacris   \n",
       "145078 2010-06-05             38  Baby  Justin Bieber Featuring Ludacris   \n",
       "147502 2010-06-12             50  Baby  Justin Bieber Featuring Ludacris   \n",
       "149529 2010-06-19             52  Baby  Justin Bieber Featuring Ludacris   \n",
       "206063 2010-03-20             14  Baby  Justin Bieber Featuring Ludacris   \n",
       "211125 2010-05-01             16  Baby  Justin Bieber Featuring Ludacris   \n",
       "214512 2010-05-22             38  Baby  Justin Bieber Featuring Ludacris   \n",
       "228543 2010-02-20             25  Baby  Justin Bieber Featuring Ludacris   \n",
       "251808 2010-03-06             13  Baby  Justin Bieber Featuring Ludacris   \n",
       "268848 2010-05-29             38  Baby  Justin Bieber Featuring Ludacris   \n",
       "281233 2010-03-13             13  Baby  Justin Bieber Featuring Ludacris   \n",
       "323232 2010-02-27             19  Baby  Justin Bieber Featuring Ludacris   \n",
       "\n",
       "                                      songid  instance  prev_week_position  \\\n",
       "27      BabyJustin Bieber Featuring Ludacris       1.0                14.0   \n",
       "872     BabyJustin Bieber Featuring Ludacris       1.0                 NaN   \n",
       "20955   BabyJustin Bieber Featuring Ludacris       1.0                12.0   \n",
       "38947   BabyJustin Bieber Featuring Ludacris       1.0                10.0   \n",
       "63761   BabyJustin Bieber Featuring Ludacris       1.0                 8.0   \n",
       "77672   BabyJustin Bieber Featuring Ludacris       1.0                 8.0   \n",
       "83910   BabyJustin Bieber Featuring Ludacris       1.0                16.0   \n",
       "98838   BabyJustin Bieber Featuring Ludacris       1.0                 5.0   \n",
       "144451  BabyJustin Bieber Featuring Ludacris       1.0                21.0   \n",
       "145078  BabyJustin Bieber Featuring Ludacris       1.0                38.0   \n",
       "147502  BabyJustin Bieber Featuring Ludacris       1.0                38.0   \n",
       "149529  BabyJustin Bieber Featuring Ludacris       1.0                50.0   \n",
       "206063  BabyJustin Bieber Featuring Ludacris       1.0                13.0   \n",
       "211125  BabyJustin Bieber Featuring Ludacris       1.0                 9.0   \n",
       "214512  BabyJustin Bieber Featuring Ludacris       1.0                26.0   \n",
       "228543  BabyJustin Bieber Featuring Ludacris       1.0                25.0   \n",
       "251808  BabyJustin Bieber Featuring Ludacris       1.0                19.0   \n",
       "268848  BabyJustin Bieber Featuring Ludacris       1.0                38.0   \n",
       "281233  BabyJustin Bieber Featuring Ludacris       1.0                13.0   \n",
       "323232  BabyJustin Bieber Featuring Ludacris       1.0                25.0   \n",
       "\n",
       "        weeks_on_chart  rel_week  \n",
       "27                 8.0       7.0  \n",
       "872                1.0       0.0  \n",
       "20955              9.0       8.0  \n",
       "38947             10.0       9.0  \n",
       "63761             12.0      11.0  \n",
       "77672             11.0      10.0  \n",
       "83910             14.0      13.0  \n",
       "98838              2.0       1.0  \n",
       "144451            15.0      14.0  \n",
       "145078            18.0      17.0  \n",
       "147502            19.0      18.0  \n",
       "149529            20.0      19.0  \n",
       "206063             7.0       6.0  \n",
       "211125            13.0      12.0  \n",
       "214512            16.0      15.0  \n",
       "228543             3.0       2.0  \n",
       "251808             5.0       4.0  \n",
       "268848            17.0      16.0  \n",
       "281233             6.0       5.0  \n",
       "323232             4.0       3.0  "
      ],
      "text/html": "<div>\n<style scoped>\n    .dataframe tbody tr th:only-of-type {\n        vertical-align: middle;\n    }\n\n    .dataframe tbody tr th {\n        vertical-align: top;\n    }\n\n    .dataframe thead th {\n        text-align: right;\n    }\n</style>\n<table border=\"1\" class=\"dataframe\">\n  <thead>\n    <tr style=\"text-align: right;\">\n      <th></th>\n      <th>week</th>\n      <th>week_position</th>\n      <th>song</th>\n      <th>performer</th>\n      <th>songid</th>\n      <th>instance</th>\n      <th>prev_week_position</th>\n      <th>weeks_on_chart</th>\n      <th>rel_week</th>\n    </tr>\n  </thead>\n  <tbody>\n    <tr>\n      <th>27</th>\n      <td>2010-03-27</td>\n      <td>12</td>\n      <td>Baby</td>\n      <td>Justin Bieber Featuring Ludacris</td>\n      <td>BabyJustin Bieber Featuring Ludacris</td>\n      <td>1.0</td>\n      <td>14.0</td>\n      <td>8.0</td>\n      <td>7.0</td>\n    </tr>\n    <tr>\n      <th>872</th>\n      <td>2010-02-06</td>\n      <td>5</td>\n      <td>Baby</td>\n      <td>Justin Bieber Featuring Ludacris</td>\n      <td>BabyJustin Bieber Featuring Ludacris</td>\n      <td>1.0</td>\n      <td>NaN</td>\n      <td>1.0</td>\n      <td>0.0</td>\n    </tr>\n    <tr>\n      <th>20955</th>\n      <td>2010-04-03</td>\n      <td>10</td>\n      <td>Baby</td>\n      <td>Justin Bieber Featuring Ludacris</td>\n      <td>BabyJustin Bieber Featuring Ludacris</td>\n      <td>1.0</td>\n      <td>12.0</td>\n      <td>9.0</td>\n      <td>8.0</td>\n    </tr>\n    <tr>\n      <th>38947</th>\n      <td>2010-04-10</td>\n      <td>8</td>\n      <td>Baby</td>\n      <td>Justin Bieber Featuring Ludacris</td>\n      <td>BabyJustin Bieber Featuring Ludacris</td>\n      <td>1.0</td>\n      <td>10.0</td>\n      <td>10.0</td>\n      <td>9.0</td>\n    </tr>\n    <tr>\n      <th>63761</th>\n      <td>2010-04-24</td>\n      <td>9</td>\n      <td>Baby</td>\n      <td>Justin Bieber Featuring Ludacris</td>\n      <td>BabyJustin Bieber Featuring Ludacris</td>\n      <td>1.0</td>\n      <td>8.0</td>\n      <td>12.0</td>\n      <td>11.0</td>\n    </tr>\n    <tr>\n      <th>77672</th>\n      <td>2010-04-17</td>\n      <td>8</td>\n      <td>Baby</td>\n      <td>Justin Bieber Featuring Ludacris</td>\n      <td>BabyJustin Bieber Featuring Ludacris</td>\n      <td>1.0</td>\n      <td>8.0</td>\n      <td>11.0</td>\n      <td>10.0</td>\n    </tr>\n    <tr>\n      <th>83910</th>\n      <td>2010-05-08</td>\n      <td>21</td>\n      <td>Baby</td>\n      <td>Justin Bieber Featuring Ludacris</td>\n      <td>BabyJustin Bieber Featuring Ludacris</td>\n      <td>1.0</td>\n      <td>16.0</td>\n      <td>14.0</td>\n      <td>13.0</td>\n    </tr>\n    <tr>\n      <th>98838</th>\n      <td>2010-02-13</td>\n      <td>25</td>\n      <td>Baby</td>\n      <td>Justin Bieber Featuring Ludacris</td>\n      <td>BabyJustin Bieber Featuring Ludacris</td>\n      <td>1.0</td>\n      <td>5.0</td>\n      <td>2.0</td>\n      <td>1.0</td>\n    </tr>\n    <tr>\n      <th>144451</th>\n      <td>2010-05-15</td>\n      <td>26</td>\n      <td>Baby</td>\n      <td>Justin Bieber Featuring Ludacris</td>\n      <td>BabyJustin Bieber Featuring Ludacris</td>\n      <td>1.0</td>\n      <td>21.0</td>\n      <td>15.0</td>\n      <td>14.0</td>\n    </tr>\n    <tr>\n      <th>145078</th>\n      <td>2010-06-05</td>\n      <td>38</td>\n      <td>Baby</td>\n      <td>Justin Bieber Featuring Ludacris</td>\n      <td>BabyJustin Bieber Featuring Ludacris</td>\n      <td>1.0</td>\n      <td>38.0</td>\n      <td>18.0</td>\n      <td>17.0</td>\n    </tr>\n    <tr>\n      <th>147502</th>\n      <td>2010-06-12</td>\n      <td>50</td>\n      <td>Baby</td>\n      <td>Justin Bieber Featuring Ludacris</td>\n      <td>BabyJustin Bieber Featuring Ludacris</td>\n      <td>1.0</td>\n      <td>38.0</td>\n      <td>19.0</td>\n      <td>18.0</td>\n    </tr>\n    <tr>\n      <th>149529</th>\n      <td>2010-06-19</td>\n      <td>52</td>\n      <td>Baby</td>\n      <td>Justin Bieber Featuring Ludacris</td>\n      <td>BabyJustin Bieber Featuring Ludacris</td>\n      <td>1.0</td>\n      <td>50.0</td>\n      <td>20.0</td>\n      <td>19.0</td>\n    </tr>\n    <tr>\n      <th>206063</th>\n      <td>2010-03-20</td>\n      <td>14</td>\n      <td>Baby</td>\n      <td>Justin Bieber Featuring Ludacris</td>\n      <td>BabyJustin Bieber Featuring Ludacris</td>\n      <td>1.0</td>\n      <td>13.0</td>\n      <td>7.0</td>\n      <td>6.0</td>\n    </tr>\n    <tr>\n      <th>211125</th>\n      <td>2010-05-01</td>\n      <td>16</td>\n      <td>Baby</td>\n      <td>Justin Bieber Featuring Ludacris</td>\n      <td>BabyJustin Bieber Featuring Ludacris</td>\n      <td>1.0</td>\n      <td>9.0</td>\n      <td>13.0</td>\n      <td>12.0</td>\n    </tr>\n    <tr>\n      <th>214512</th>\n      <td>2010-05-22</td>\n      <td>38</td>\n      <td>Baby</td>\n      <td>Justin Bieber Featuring Ludacris</td>\n      <td>BabyJustin Bieber Featuring Ludacris</td>\n      <td>1.0</td>\n      <td>26.0</td>\n      <td>16.0</td>\n      <td>15.0</td>\n    </tr>\n    <tr>\n      <th>228543</th>\n      <td>2010-02-20</td>\n      <td>25</td>\n      <td>Baby</td>\n      <td>Justin Bieber Featuring Ludacris</td>\n      <td>BabyJustin Bieber Featuring Ludacris</td>\n      <td>1.0</td>\n      <td>25.0</td>\n      <td>3.0</td>\n      <td>2.0</td>\n    </tr>\n    <tr>\n      <th>251808</th>\n      <td>2010-03-06</td>\n      <td>13</td>\n      <td>Baby</td>\n      <td>Justin Bieber Featuring Ludacris</td>\n      <td>BabyJustin Bieber Featuring Ludacris</td>\n      <td>1.0</td>\n      <td>19.0</td>\n      <td>5.0</td>\n      <td>4.0</td>\n    </tr>\n    <tr>\n      <th>268848</th>\n      <td>2010-05-29</td>\n      <td>38</td>\n      <td>Baby</td>\n      <td>Justin Bieber Featuring Ludacris</td>\n      <td>BabyJustin Bieber Featuring Ludacris</td>\n      <td>1.0</td>\n      <td>38.0</td>\n      <td>17.0</td>\n      <td>16.0</td>\n    </tr>\n    <tr>\n      <th>281233</th>\n      <td>2010-03-13</td>\n      <td>13</td>\n      <td>Baby</td>\n      <td>Justin Bieber Featuring Ludacris</td>\n      <td>BabyJustin Bieber Featuring Ludacris</td>\n      <td>1.0</td>\n      <td>13.0</td>\n      <td>6.0</td>\n      <td>5.0</td>\n    </tr>\n    <tr>\n      <th>323232</th>\n      <td>2010-02-27</td>\n      <td>19</td>\n      <td>Baby</td>\n      <td>Justin Bieber Featuring Ludacris</td>\n      <td>BabyJustin Bieber Featuring Ludacris</td>\n      <td>1.0</td>\n      <td>25.0</td>\n      <td>4.0</td>\n      <td>3.0</td>\n    </tr>\n  </tbody>\n</table>\n</div>"
     },
     "metadata": {},
     "execution_count": 24
    }
   ],
   "source": [
    "df[df.songid=='BabyJustin Bieber Featuring Ludacris']"
   ]
  },
  {
   "cell_type": "code",
   "execution_count": 11,
   "metadata": {},
   "outputs": [
    {
     "output_type": "execute_result",
     "data": {
      "text/plain": [
       "                                                                  song  \\\n",
       "songid                                                                   \n",
       "Dance MonkeyTones And I                                   Dance Monkey   \n",
       "Run It!Chris Brown                                             Run It!   \n",
       "BabyJustin Bieber Featuring Ludacris                              Baby   \n",
       "Pray For MeThe Weeknd & Kendrick Lamar                     Pray For Me   \n",
       "Blow Me (One Last Kiss)P!nk                    Blow Me (One Last Kiss)   \n",
       "...                                                                ...   \n",
       "You Know You're RightNirvana                     You Know You're Right   \n",
       "You LieThe Band Perry                                          You Lie   \n",
       "You Look Good In My ShirtKeith Urban         You Look Good In My Shirt   \n",
       "You Look GoodLady Antebellum                             You Look Good   \n",
       "You Look Like I Need A DrinkJustin Moore  You Look Like I Need A Drink   \n",
       "\n",
       "                                                                 performer  \n",
       "songid                                                                      \n",
       "Dance MonkeyTones And I                                        Tones And I  \n",
       "Run It!Chris Brown                                             Chris Brown  \n",
       "BabyJustin Bieber Featuring Ludacris      Justin Bieber Featuring Ludacris  \n",
       "Pray For MeThe Weeknd & Kendrick Lamar         The Weeknd & Kendrick Lamar  \n",
       "Blow Me (One Last Kiss)P!nk                                           P!nk  \n",
       "...                                                                    ...  \n",
       "You Know You're RightNirvana                                       Nirvana  \n",
       "You LieThe Band Perry                                       The Band Perry  \n",
       "You Look Good In My ShirtKeith Urban                           Keith Urban  \n",
       "You Look GoodLady Antebellum                               Lady Antebellum  \n",
       "You Look Like I Need A DrinkJustin Moore                      Justin Moore  \n",
       "\n",
       "[7985 rows x 2 columns]"
      ],
      "text/html": "<div>\n<style scoped>\n    .dataframe tbody tr th:only-of-type {\n        vertical-align: middle;\n    }\n\n    .dataframe tbody tr th {\n        vertical-align: top;\n    }\n\n    .dataframe thead th {\n        text-align: right;\n    }\n</style>\n<table border=\"1\" class=\"dataframe\">\n  <thead>\n    <tr style=\"text-align: right;\">\n      <th></th>\n      <th>song</th>\n      <th>performer</th>\n    </tr>\n    <tr>\n      <th>songid</th>\n      <th></th>\n      <th></th>\n    </tr>\n  </thead>\n  <tbody>\n    <tr>\n      <th>Dance MonkeyTones And I</th>\n      <td>Dance Monkey</td>\n      <td>Tones And I</td>\n    </tr>\n    <tr>\n      <th>Run It!Chris Brown</th>\n      <td>Run It!</td>\n      <td>Chris Brown</td>\n    </tr>\n    <tr>\n      <th>BabyJustin Bieber Featuring Ludacris</th>\n      <td>Baby</td>\n      <td>Justin Bieber Featuring Ludacris</td>\n    </tr>\n    <tr>\n      <th>Pray For MeThe Weeknd &amp; Kendrick Lamar</th>\n      <td>Pray For Me</td>\n      <td>The Weeknd &amp; Kendrick Lamar</td>\n    </tr>\n    <tr>\n      <th>Blow Me (One Last Kiss)P!nk</th>\n      <td>Blow Me (One Last Kiss)</td>\n      <td>P!nk</td>\n    </tr>\n    <tr>\n      <th>...</th>\n      <td>...</td>\n      <td>...</td>\n    </tr>\n    <tr>\n      <th>You Know You're RightNirvana</th>\n      <td>You Know You're Right</td>\n      <td>Nirvana</td>\n    </tr>\n    <tr>\n      <th>You LieThe Band Perry</th>\n      <td>You Lie</td>\n      <td>The Band Perry</td>\n    </tr>\n    <tr>\n      <th>You Look Good In My ShirtKeith Urban</th>\n      <td>You Look Good In My Shirt</td>\n      <td>Keith Urban</td>\n    </tr>\n    <tr>\n      <th>You Look GoodLady Antebellum</th>\n      <td>You Look Good</td>\n      <td>Lady Antebellum</td>\n    </tr>\n    <tr>\n      <th>You Look Like I Need A DrinkJustin Moore</th>\n      <td>You Look Like I Need A Drink</td>\n      <td>Justin Moore</td>\n    </tr>\n  </tbody>\n</table>\n<p>7985 rows × 2 columns</p>\n</div>"
     },
     "metadata": {},
     "execution_count": 11
    }
   ],
   "source": [
    "song_info"
   ]
  },
  {
   "cell_type": "code",
   "execution_count": 12,
   "metadata": {},
   "outputs": [],
   "source": [
    "# get the absolute peak for each song\n",
    "for s in list(song_info.index.values): \n",
    "    song_info.at[s, 'peak'] = min(df[df.songid == s].week_position.unique())\n",
    "\n",
    "df = df[[(song_info.loc[r.songid].peak <= 10) for _, r in df.iterrows()]]\n",
    "song_info = song_info[song_info.peak <= 10]\n"
   ]
  },
  {
   "cell_type": "code",
   "execution_count": 13,
   "metadata": {},
   "outputs": [],
   "source": [
    "# only keep the songs that peaked in the top 10\n",
    "df = df.drop(columns=['peak_position'])\n"
   ]
  },
  {
   "cell_type": "code",
   "execution_count": 14,
   "metadata": {},
   "outputs": [
    {
     "output_type": "display_data",
     "data": {
      "text/plain": "<Figure size 432x288 with 1 Axes>",
      "image/svg+xml": "<?xml version=\"1.0\" encoding=\"utf-8\" standalone=\"no\"?>\n<!DOCTYPE svg PUBLIC \"-//W3C//DTD SVG 1.1//EN\"\n  \"http://www.w3.org/Graphics/SVG/1.1/DTD/svg11.dtd\">\n<!-- Created with matplotlib (https://matplotlib.org/) -->\n<svg height=\"252.024627pt\" version=\"1.1\" viewBox=\"0 0 386.845312 252.024627\" width=\"386.845312pt\" xmlns=\"http://www.w3.org/2000/svg\" xmlns:xlink=\"http://www.w3.org/1999/xlink\">\n <metadata>\n  <rdf:RDF xmlns:cc=\"http://creativecommons.org/ns#\" xmlns:dc=\"http://purl.org/dc/elements/1.1/\" xmlns:rdf=\"http://www.w3.org/1999/02/22-rdf-syntax-ns#\">\n   <cc:Work>\n    <dc:type rdf:resource=\"http://purl.org/dc/dcmitype/StillImage\"/>\n    <dc:date>2021-05-14T14:10:17.919554</dc:date>\n    <dc:format>image/svg+xml</dc:format>\n    <dc:creator>\n     <cc:Agent>\n      <dc:title>Matplotlib v3.3.4, https://matplotlib.org/</dc:title>\n     </cc:Agent>\n    </dc:creator>\n   </cc:Work>\n  </rdf:RDF>\n </metadata>\n <defs>\n  <style type=\"text/css\">*{stroke-linecap:butt;stroke-linejoin:round;}</style>\n </defs>\n <g id=\"figure_1\">\n  <g id=\"patch_1\">\n   <path d=\"M 0 252.024627 \nL 386.845312 252.024627 \nL 386.845312 0 \nL 0 0 \nz\n\" style=\"fill:none;\"/>\n  </g>\n  <g id=\"axes_1\">\n   <g id=\"patch_2\">\n    <path d=\"M 44.845313 203.04 \nL 379.645313 203.04 \nL 379.645313 7.2 \nL 44.845313 7.2 \nz\n\" style=\"fill:#ffffff;\"/>\n   </g>\n   <g id=\"matplotlib.axis_1\">\n    <g id=\"xtick_1\">\n     <g id=\"line2d_1\">\n      <defs>\n       <path d=\"M 0 0 \nL 0 3.5 \n\" id=\"ma38d31942c\" style=\"stroke:#000000;stroke-width:0.8;\"/>\n      </defs>\n      <g>\n       <use style=\"stroke:#000000;stroke-width:0.8;\" x=\"60.063494\" xlink:href=\"#ma38d31942c\" y=\"203.04\"/>\n      </g>\n     </g>\n     <g id=\"text_1\">\n      <!-- 2000 -->\n      <g transform=\"translate(36.983304 229.34544)rotate(-30)scale(0.1 -0.1)\">\n       <defs>\n        <path d=\"M 19.1875 8.296875 \nL 53.609375 8.296875 \nL 53.609375 0 \nL 7.328125 0 \nL 7.328125 8.296875 \nQ 12.9375 14.109375 22.625 23.890625 \nQ 32.328125 33.6875 34.8125 36.53125 \nQ 39.546875 41.84375 41.421875 45.53125 \nQ 43.3125 49.21875 43.3125 52.78125 \nQ 43.3125 58.59375 39.234375 62.25 \nQ 35.15625 65.921875 28.609375 65.921875 \nQ 23.96875 65.921875 18.8125 64.3125 \nQ 13.671875 62.703125 7.8125 59.421875 \nL 7.8125 69.390625 \nQ 13.765625 71.78125 18.9375 73 \nQ 24.125 74.21875 28.421875 74.21875 \nQ 39.75 74.21875 46.484375 68.546875 \nQ 53.21875 62.890625 53.21875 53.421875 \nQ 53.21875 48.921875 51.53125 44.890625 \nQ 49.859375 40.875 45.40625 35.40625 \nQ 44.1875 33.984375 37.640625 27.21875 \nQ 31.109375 20.453125 19.1875 8.296875 \nz\n\" id=\"DejaVuSans-50\"/>\n        <path d=\"M 31.78125 66.40625 \nQ 24.171875 66.40625 20.328125 58.90625 \nQ 16.5 51.421875 16.5 36.375 \nQ 16.5 21.390625 20.328125 13.890625 \nQ 24.171875 6.390625 31.78125 6.390625 \nQ 39.453125 6.390625 43.28125 13.890625 \nQ 47.125 21.390625 47.125 36.375 \nQ 47.125 51.421875 43.28125 58.90625 \nQ 39.453125 66.40625 31.78125 66.40625 \nz\nM 31.78125 74.21875 \nQ 44.046875 74.21875 50.515625 64.515625 \nQ 56.984375 54.828125 56.984375 36.375 \nQ 56.984375 17.96875 50.515625 8.265625 \nQ 44.046875 -1.421875 31.78125 -1.421875 \nQ 19.53125 -1.421875 13.0625 8.265625 \nQ 6.59375 17.96875 6.59375 36.375 \nQ 6.59375 54.828125 13.0625 64.515625 \nQ 19.53125 74.21875 31.78125 74.21875 \nz\n\" id=\"DejaVuSans-48\"/>\n       </defs>\n       <use xlink:href=\"#DejaVuSans-50\"/>\n       <use x=\"63.623047\" xlink:href=\"#DejaVuSans-48\"/>\n       <use x=\"127.246094\" xlink:href=\"#DejaVuSans-48\"/>\n       <use x=\"190.869141\" xlink:href=\"#DejaVuSans-48\"/>\n      </g>\n     </g>\n    </g>\n    <g id=\"xtick_2\">\n     <g id=\"line2d_2\">\n      <g>\n       <use style=\"stroke:#000000;stroke-width:0.8;\" x=\"120.969549\" xlink:href=\"#ma38d31942c\" y=\"203.04\"/>\n      </g>\n     </g>\n     <g id=\"text_2\">\n      <!-- 2002 -->\n      <g transform=\"translate(97.889359 229.34544)rotate(-30)scale(0.1 -0.1)\">\n       <use xlink:href=\"#DejaVuSans-50\"/>\n       <use x=\"63.623047\" xlink:href=\"#DejaVuSans-48\"/>\n       <use x=\"127.246094\" xlink:href=\"#DejaVuSans-48\"/>\n       <use x=\"190.869141\" xlink:href=\"#DejaVuSans-50\"/>\n      </g>\n     </g>\n    </g>\n    <g id=\"xtick_3\">\n     <g id=\"line2d_3\">\n      <g>\n       <use style=\"stroke:#000000;stroke-width:0.8;\" x=\"181.792285\" xlink:href=\"#ma38d31942c\" y=\"203.04\"/>\n      </g>\n     </g>\n     <g id=\"text_3\">\n      <!-- 2004 -->\n      <g transform=\"translate(158.712095 229.34544)rotate(-30)scale(0.1 -0.1)\">\n       <defs>\n        <path d=\"M 37.796875 64.3125 \nL 12.890625 25.390625 \nL 37.796875 25.390625 \nz\nM 35.203125 72.90625 \nL 47.609375 72.90625 \nL 47.609375 25.390625 \nL 58.015625 25.390625 \nL 58.015625 17.1875 \nL 47.609375 17.1875 \nL 47.609375 0 \nL 37.796875 0 \nL 37.796875 17.1875 \nL 4.890625 17.1875 \nL 4.890625 26.703125 \nz\n\" id=\"DejaVuSans-52\"/>\n       </defs>\n       <use xlink:href=\"#DejaVuSans-50\"/>\n       <use x=\"63.623047\" xlink:href=\"#DejaVuSans-48\"/>\n       <use x=\"127.246094\" xlink:href=\"#DejaVuSans-48\"/>\n       <use x=\"190.869141\" xlink:href=\"#DejaVuSans-52\"/>\n      </g>\n     </g>\n    </g>\n    <g id=\"xtick_4\">\n     <g id=\"line2d_4\">\n      <g>\n       <use style=\"stroke:#000000;stroke-width:0.8;\" x=\"242.69834\" xlink:href=\"#ma38d31942c\" y=\"203.04\"/>\n      </g>\n     </g>\n     <g id=\"text_4\">\n      <!-- 2006 -->\n      <g transform=\"translate(219.61815 229.34544)rotate(-30)scale(0.1 -0.1)\">\n       <defs>\n        <path d=\"M 33.015625 40.375 \nQ 26.375 40.375 22.484375 35.828125 \nQ 18.609375 31.296875 18.609375 23.390625 \nQ 18.609375 15.53125 22.484375 10.953125 \nQ 26.375 6.390625 33.015625 6.390625 \nQ 39.65625 6.390625 43.53125 10.953125 \nQ 47.40625 15.53125 47.40625 23.390625 \nQ 47.40625 31.296875 43.53125 35.828125 \nQ 39.65625 40.375 33.015625 40.375 \nz\nM 52.59375 71.296875 \nL 52.59375 62.3125 \nQ 48.875 64.0625 45.09375 64.984375 \nQ 41.3125 65.921875 37.59375 65.921875 \nQ 27.828125 65.921875 22.671875 59.328125 \nQ 17.53125 52.734375 16.796875 39.40625 \nQ 19.671875 43.65625 24.015625 45.921875 \nQ 28.375 48.1875 33.59375 48.1875 \nQ 44.578125 48.1875 50.953125 41.515625 \nQ 57.328125 34.859375 57.328125 23.390625 \nQ 57.328125 12.15625 50.6875 5.359375 \nQ 44.046875 -1.421875 33.015625 -1.421875 \nQ 20.359375 -1.421875 13.671875 8.265625 \nQ 6.984375 17.96875 6.984375 36.375 \nQ 6.984375 53.65625 15.1875 63.9375 \nQ 23.390625 74.21875 37.203125 74.21875 \nQ 40.921875 74.21875 44.703125 73.484375 \nQ 48.484375 72.75 52.59375 71.296875 \nz\n\" id=\"DejaVuSans-54\"/>\n       </defs>\n       <use xlink:href=\"#DejaVuSans-50\"/>\n       <use x=\"63.623047\" xlink:href=\"#DejaVuSans-48\"/>\n       <use x=\"127.246094\" xlink:href=\"#DejaVuSans-48\"/>\n       <use x=\"190.869141\" xlink:href=\"#DejaVuSans-54\"/>\n      </g>\n     </g>\n    </g>\n    <g id=\"xtick_5\">\n     <g id=\"line2d_5\">\n      <g>\n       <use style=\"stroke:#000000;stroke-width:0.8;\" x=\"303.521076\" xlink:href=\"#ma38d31942c\" y=\"203.04\"/>\n      </g>\n     </g>\n     <g id=\"text_5\">\n      <!-- 2008 -->\n      <g transform=\"translate(280.440886 229.34544)rotate(-30)scale(0.1 -0.1)\">\n       <defs>\n        <path d=\"M 31.78125 34.625 \nQ 24.75 34.625 20.71875 30.859375 \nQ 16.703125 27.09375 16.703125 20.515625 \nQ 16.703125 13.921875 20.71875 10.15625 \nQ 24.75 6.390625 31.78125 6.390625 \nQ 38.8125 6.390625 42.859375 10.171875 \nQ 46.921875 13.96875 46.921875 20.515625 \nQ 46.921875 27.09375 42.890625 30.859375 \nQ 38.875 34.625 31.78125 34.625 \nz\nM 21.921875 38.8125 \nQ 15.578125 40.375 12.03125 44.71875 \nQ 8.5 49.078125 8.5 55.328125 \nQ 8.5 64.0625 14.71875 69.140625 \nQ 20.953125 74.21875 31.78125 74.21875 \nQ 42.671875 74.21875 48.875 69.140625 \nQ 55.078125 64.0625 55.078125 55.328125 \nQ 55.078125 49.078125 51.53125 44.71875 \nQ 48 40.375 41.703125 38.8125 \nQ 48.828125 37.15625 52.796875 32.3125 \nQ 56.78125 27.484375 56.78125 20.515625 \nQ 56.78125 9.90625 50.3125 4.234375 \nQ 43.84375 -1.421875 31.78125 -1.421875 \nQ 19.734375 -1.421875 13.25 4.234375 \nQ 6.78125 9.90625 6.78125 20.515625 \nQ 6.78125 27.484375 10.78125 32.3125 \nQ 14.796875 37.15625 21.921875 38.8125 \nz\nM 18.3125 54.390625 \nQ 18.3125 48.734375 21.84375 45.5625 \nQ 25.390625 42.390625 31.78125 42.390625 \nQ 38.140625 42.390625 41.71875 45.5625 \nQ 45.3125 48.734375 45.3125 54.390625 \nQ 45.3125 60.0625 41.71875 63.234375 \nQ 38.140625 66.40625 31.78125 66.40625 \nQ 25.390625 66.40625 21.84375 63.234375 \nQ 18.3125 60.0625 18.3125 54.390625 \nz\n\" id=\"DejaVuSans-56\"/>\n       </defs>\n       <use xlink:href=\"#DejaVuSans-50\"/>\n       <use x=\"63.623047\" xlink:href=\"#DejaVuSans-48\"/>\n       <use x=\"127.246094\" xlink:href=\"#DejaVuSans-48\"/>\n       <use x=\"190.869141\" xlink:href=\"#DejaVuSans-56\"/>\n      </g>\n     </g>\n    </g>\n    <g id=\"xtick_6\">\n     <g id=\"line2d_6\">\n      <g>\n       <use style=\"stroke:#000000;stroke-width:0.8;\" x=\"364.427131\" xlink:href=\"#ma38d31942c\" y=\"203.04\"/>\n      </g>\n     </g>\n     <g id=\"text_6\">\n      <!-- 2010 -->\n      <g transform=\"translate(341.34694 229.34544)rotate(-30)scale(0.1 -0.1)\">\n       <defs>\n        <path d=\"M 12.40625 8.296875 \nL 28.515625 8.296875 \nL 28.515625 63.921875 \nL 10.984375 60.40625 \nL 10.984375 69.390625 \nL 28.421875 72.90625 \nL 38.28125 72.90625 \nL 38.28125 8.296875 \nL 54.390625 8.296875 \nL 54.390625 0 \nL 12.40625 0 \nz\n\" id=\"DejaVuSans-49\"/>\n       </defs>\n       <use xlink:href=\"#DejaVuSans-50\"/>\n       <use x=\"63.623047\" xlink:href=\"#DejaVuSans-48\"/>\n       <use x=\"127.246094\" xlink:href=\"#DejaVuSans-49\"/>\n       <use x=\"190.869141\" xlink:href=\"#DejaVuSans-48\"/>\n      </g>\n     </g>\n    </g>\n    <g id=\"text_7\">\n     <!-- week -->\n     <g transform=\"translate(199.107813 242.74494)scale(0.1 -0.1)\">\n      <defs>\n       <path d=\"M 4.203125 54.6875 \nL 13.1875 54.6875 \nL 24.421875 12.015625 \nL 35.59375 54.6875 \nL 46.1875 54.6875 \nL 57.421875 12.015625 \nL 68.609375 54.6875 \nL 77.59375 54.6875 \nL 63.28125 0 \nL 52.6875 0 \nL 40.921875 44.828125 \nL 29.109375 0 \nL 18.5 0 \nz\n\" id=\"DejaVuSans-119\"/>\n       <path d=\"M 56.203125 29.59375 \nL 56.203125 25.203125 \nL 14.890625 25.203125 \nQ 15.484375 15.921875 20.484375 11.0625 \nQ 25.484375 6.203125 34.421875 6.203125 \nQ 39.59375 6.203125 44.453125 7.46875 \nQ 49.3125 8.734375 54.109375 11.28125 \nL 54.109375 2.78125 \nQ 49.265625 0.734375 44.1875 -0.34375 \nQ 39.109375 -1.421875 33.890625 -1.421875 \nQ 20.796875 -1.421875 13.15625 6.1875 \nQ 5.515625 13.8125 5.515625 26.8125 \nQ 5.515625 40.234375 12.765625 48.109375 \nQ 20.015625 56 32.328125 56 \nQ 43.359375 56 49.78125 48.890625 \nQ 56.203125 41.796875 56.203125 29.59375 \nz\nM 47.21875 32.234375 \nQ 47.125 39.59375 43.09375 43.984375 \nQ 39.0625 48.390625 32.421875 48.390625 \nQ 24.90625 48.390625 20.390625 44.140625 \nQ 15.875 39.890625 15.1875 32.171875 \nz\n\" id=\"DejaVuSans-101\"/>\n       <path d=\"M 9.078125 75.984375 \nL 18.109375 75.984375 \nL 18.109375 31.109375 \nL 44.921875 54.6875 \nL 56.390625 54.6875 \nL 27.390625 29.109375 \nL 57.625 0 \nL 45.90625 0 \nL 18.109375 26.703125 \nL 18.109375 0 \nL 9.078125 0 \nz\n\" id=\"DejaVuSans-107\"/>\n      </defs>\n      <use xlink:href=\"#DejaVuSans-119\"/>\n      <use x=\"81.787109\" xlink:href=\"#DejaVuSans-101\"/>\n      <use x=\"143.310547\" xlink:href=\"#DejaVuSans-101\"/>\n      <use x=\"204.833984\" xlink:href=\"#DejaVuSans-107\"/>\n     </g>\n    </g>\n   </g>\n   <g id=\"matplotlib.axis_2\">\n    <g id=\"ytick_1\">\n     <g id=\"line2d_7\">\n      <defs>\n       <path d=\"M 0 0 \nL -3.5 0 \n\" id=\"m67a20c9e81\" style=\"stroke:#000000;stroke-width:0.8;\"/>\n      </defs>\n      <g>\n       <use style=\"stroke:#000000;stroke-width:0.8;\" x=\"44.845313\" xlink:href=\"#m67a20c9e81\" y=\"33.905455\"/>\n      </g>\n     </g>\n     <g id=\"text_8\">\n      <!-- −0.04 -->\n      <g transform=\"translate(7.2 37.704673)scale(0.1 -0.1)\">\n       <defs>\n        <path d=\"M 10.59375 35.5 \nL 73.1875 35.5 \nL 73.1875 27.203125 \nL 10.59375 27.203125 \nz\n\" id=\"DejaVuSans-8722\"/>\n        <path d=\"M 10.6875 12.40625 \nL 21 12.40625 \nL 21 0 \nL 10.6875 0 \nz\n\" id=\"DejaVuSans-46\"/>\n       </defs>\n       <use xlink:href=\"#DejaVuSans-8722\"/>\n       <use x=\"83.789062\" xlink:href=\"#DejaVuSans-48\"/>\n       <use x=\"147.412109\" xlink:href=\"#DejaVuSans-46\"/>\n       <use x=\"179.199219\" xlink:href=\"#DejaVuSans-48\"/>\n       <use x=\"242.822266\" xlink:href=\"#DejaVuSans-52\"/>\n      </g>\n     </g>\n    </g>\n    <g id=\"ytick_2\">\n     <g id=\"line2d_8\">\n      <g>\n       <use style=\"stroke:#000000;stroke-width:0.8;\" x=\"44.845313\" xlink:href=\"#m67a20c9e81\" y=\"69.512727\"/>\n      </g>\n     </g>\n     <g id=\"text_9\">\n      <!-- −0.02 -->\n      <g transform=\"translate(7.2 73.311946)scale(0.1 -0.1)\">\n       <use xlink:href=\"#DejaVuSans-8722\"/>\n       <use x=\"83.789062\" xlink:href=\"#DejaVuSans-48\"/>\n       <use x=\"147.412109\" xlink:href=\"#DejaVuSans-46\"/>\n       <use x=\"179.199219\" xlink:href=\"#DejaVuSans-48\"/>\n       <use x=\"242.822266\" xlink:href=\"#DejaVuSans-50\"/>\n      </g>\n     </g>\n    </g>\n    <g id=\"ytick_3\">\n     <g id=\"line2d_9\">\n      <g>\n       <use style=\"stroke:#000000;stroke-width:0.8;\" x=\"44.845313\" xlink:href=\"#m67a20c9e81\" y=\"105.12\"/>\n      </g>\n     </g>\n     <g id=\"text_10\">\n      <!-- 0.00 -->\n      <g transform=\"translate(15.579688 108.919219)scale(0.1 -0.1)\">\n       <use xlink:href=\"#DejaVuSans-48\"/>\n       <use x=\"63.623047\" xlink:href=\"#DejaVuSans-46\"/>\n       <use x=\"95.410156\" xlink:href=\"#DejaVuSans-48\"/>\n       <use x=\"159.033203\" xlink:href=\"#DejaVuSans-48\"/>\n      </g>\n     </g>\n    </g>\n    <g id=\"ytick_4\">\n     <g id=\"line2d_10\">\n      <g>\n       <use style=\"stroke:#000000;stroke-width:0.8;\" x=\"44.845313\" xlink:href=\"#m67a20c9e81\" y=\"140.727273\"/>\n      </g>\n     </g>\n     <g id=\"text_11\">\n      <!-- 0.02 -->\n      <g transform=\"translate(15.579688 144.526491)scale(0.1 -0.1)\">\n       <use xlink:href=\"#DejaVuSans-48\"/>\n       <use x=\"63.623047\" xlink:href=\"#DejaVuSans-46\"/>\n       <use x=\"95.410156\" xlink:href=\"#DejaVuSans-48\"/>\n       <use x=\"159.033203\" xlink:href=\"#DejaVuSans-50\"/>\n      </g>\n     </g>\n    </g>\n    <g id=\"ytick_5\">\n     <g id=\"line2d_11\">\n      <g>\n       <use style=\"stroke:#000000;stroke-width:0.8;\" x=\"44.845313\" xlink:href=\"#m67a20c9e81\" y=\"176.334545\"/>\n      </g>\n     </g>\n     <g id=\"text_12\">\n      <!-- 0.04 -->\n      <g transform=\"translate(15.579688 180.133764)scale(0.1 -0.1)\">\n       <use xlink:href=\"#DejaVuSans-48\"/>\n       <use x=\"63.623047\" xlink:href=\"#DejaVuSans-46\"/>\n       <use x=\"95.410156\" xlink:href=\"#DejaVuSans-48\"/>\n       <use x=\"159.033203\" xlink:href=\"#DejaVuSans-52\"/>\n      </g>\n     </g>\n    </g>\n   </g>\n   <g id=\"line2d_12\"/>\n   <g id=\"line2d_13\"/>\n   <g id=\"patch_3\">\n    <path d=\"M 44.845313 203.04 \nL 44.845313 7.2 \n\" style=\"fill:none;stroke:#000000;stroke-linecap:square;stroke-linejoin:miter;stroke-width:0.8;\"/>\n   </g>\n   <g id=\"patch_4\">\n    <path d=\"M 379.645313 203.04 \nL 379.645313 7.2 \n\" style=\"fill:none;stroke:#000000;stroke-linecap:square;stroke-linejoin:miter;stroke-width:0.8;\"/>\n   </g>\n   <g id=\"patch_5\">\n    <path d=\"M 44.845312 203.04 \nL 379.645313 203.04 \n\" style=\"fill:none;stroke:#000000;stroke-linecap:square;stroke-linejoin:miter;stroke-width:0.8;\"/>\n   </g>\n   <g id=\"patch_6\">\n    <path d=\"M 44.845312 7.2 \nL 379.645313 7.2 \n\" style=\"fill:none;stroke:#000000;stroke-linecap:square;stroke-linejoin:miter;stroke-width:0.8;\"/>\n   </g>\n   <g id=\"legend_1\">\n    <g id=\"patch_7\">\n     <path d=\"M 269.760938 30.15625 \nL 372.645313 30.15625 \nQ 374.645313 30.15625 374.645313 28.15625 \nL 374.645313 14.2 \nQ 374.645313 12.2 372.645313 12.2 \nL 269.760938 12.2 \nQ 267.760938 12.2 267.760938 14.2 \nL 267.760938 28.15625 \nQ 267.760938 30.15625 269.760938 30.15625 \nz\n\" style=\"fill:#ffffff;opacity:0.8;stroke:#cccccc;stroke-linejoin:miter;\"/>\n    </g>\n    <g id=\"line2d_14\">\n     <path d=\"M 271.760938 20.298438 \nL 291.760938 20.298438 \n\" style=\"fill:none;stroke:#1f77b4;stroke-linecap:square;stroke-width:1.5;\"/>\n    </g>\n    <g id=\"line2d_15\"/>\n    <g id=\"text_13\">\n     <!-- week_position -->\n     <g transform=\"translate(299.760938 23.798438)scale(0.1 -0.1)\">\n      <defs>\n       <path d=\"M 50.984375 -16.609375 \nL 50.984375 -23.578125 \nL -0.984375 -23.578125 \nL -0.984375 -16.609375 \nz\n\" id=\"DejaVuSans-95\"/>\n       <path d=\"M 18.109375 8.203125 \nL 18.109375 -20.796875 \nL 9.078125 -20.796875 \nL 9.078125 54.6875 \nL 18.109375 54.6875 \nL 18.109375 46.390625 \nQ 20.953125 51.265625 25.265625 53.625 \nQ 29.59375 56 35.59375 56 \nQ 45.5625 56 51.78125 48.09375 \nQ 58.015625 40.1875 58.015625 27.296875 \nQ 58.015625 14.40625 51.78125 6.484375 \nQ 45.5625 -1.421875 35.59375 -1.421875 \nQ 29.59375 -1.421875 25.265625 0.953125 \nQ 20.953125 3.328125 18.109375 8.203125 \nz\nM 48.6875 27.296875 \nQ 48.6875 37.203125 44.609375 42.84375 \nQ 40.53125 48.484375 33.40625 48.484375 \nQ 26.265625 48.484375 22.1875 42.84375 \nQ 18.109375 37.203125 18.109375 27.296875 \nQ 18.109375 17.390625 22.1875 11.75 \nQ 26.265625 6.109375 33.40625 6.109375 \nQ 40.53125 6.109375 44.609375 11.75 \nQ 48.6875 17.390625 48.6875 27.296875 \nz\n\" id=\"DejaVuSans-112\"/>\n       <path d=\"M 30.609375 48.390625 \nQ 23.390625 48.390625 19.1875 42.75 \nQ 14.984375 37.109375 14.984375 27.296875 \nQ 14.984375 17.484375 19.15625 11.84375 \nQ 23.34375 6.203125 30.609375 6.203125 \nQ 37.796875 6.203125 41.984375 11.859375 \nQ 46.1875 17.53125 46.1875 27.296875 \nQ 46.1875 37.015625 41.984375 42.703125 \nQ 37.796875 48.390625 30.609375 48.390625 \nz\nM 30.609375 56 \nQ 42.328125 56 49.015625 48.375 \nQ 55.71875 40.765625 55.71875 27.296875 \nQ 55.71875 13.875 49.015625 6.21875 \nQ 42.328125 -1.421875 30.609375 -1.421875 \nQ 18.84375 -1.421875 12.171875 6.21875 \nQ 5.515625 13.875 5.515625 27.296875 \nQ 5.515625 40.765625 12.171875 48.375 \nQ 18.84375 56 30.609375 56 \nz\n\" id=\"DejaVuSans-111\"/>\n       <path d=\"M 44.28125 53.078125 \nL 44.28125 44.578125 \nQ 40.484375 46.53125 36.375 47.5 \nQ 32.28125 48.484375 27.875 48.484375 \nQ 21.1875 48.484375 17.84375 46.4375 \nQ 14.5 44.390625 14.5 40.28125 \nQ 14.5 37.15625 16.890625 35.375 \nQ 19.28125 33.59375 26.515625 31.984375 \nL 29.59375 31.296875 \nQ 39.15625 29.25 43.1875 25.515625 \nQ 47.21875 21.78125 47.21875 15.09375 \nQ 47.21875 7.46875 41.1875 3.015625 \nQ 35.15625 -1.421875 24.609375 -1.421875 \nQ 20.21875 -1.421875 15.453125 -0.5625 \nQ 10.6875 0.296875 5.421875 2 \nL 5.421875 11.28125 \nQ 10.40625 8.6875 15.234375 7.390625 \nQ 20.0625 6.109375 24.8125 6.109375 \nQ 31.15625 6.109375 34.5625 8.28125 \nQ 37.984375 10.453125 37.984375 14.40625 \nQ 37.984375 18.0625 35.515625 20.015625 \nQ 33.0625 21.96875 24.703125 23.78125 \nL 21.578125 24.515625 \nQ 13.234375 26.265625 9.515625 29.90625 \nQ 5.8125 33.546875 5.8125 39.890625 \nQ 5.8125 47.609375 11.28125 51.796875 \nQ 16.75 56 26.8125 56 \nQ 31.78125 56 36.171875 55.265625 \nQ 40.578125 54.546875 44.28125 53.078125 \nz\n\" id=\"DejaVuSans-115\"/>\n       <path d=\"M 9.421875 54.6875 \nL 18.40625 54.6875 \nL 18.40625 0 \nL 9.421875 0 \nz\nM 9.421875 75.984375 \nL 18.40625 75.984375 \nL 18.40625 64.59375 \nL 9.421875 64.59375 \nz\n\" id=\"DejaVuSans-105\"/>\n       <path d=\"M 18.3125 70.21875 \nL 18.3125 54.6875 \nL 36.8125 54.6875 \nL 36.8125 47.703125 \nL 18.3125 47.703125 \nL 18.3125 18.015625 \nQ 18.3125 11.328125 20.140625 9.421875 \nQ 21.96875 7.515625 27.59375 7.515625 \nL 36.8125 7.515625 \nL 36.8125 0 \nL 27.59375 0 \nQ 17.1875 0 13.234375 3.875 \nQ 9.28125 7.765625 9.28125 18.015625 \nL 9.28125 47.703125 \nL 2.6875 47.703125 \nL 2.6875 54.6875 \nL 9.28125 54.6875 \nL 9.28125 70.21875 \nz\n\" id=\"DejaVuSans-116\"/>\n       <path d=\"M 54.890625 33.015625 \nL 54.890625 0 \nL 45.90625 0 \nL 45.90625 32.71875 \nQ 45.90625 40.484375 42.875 44.328125 \nQ 39.84375 48.1875 33.796875 48.1875 \nQ 26.515625 48.1875 22.3125 43.546875 \nQ 18.109375 38.921875 18.109375 30.90625 \nL 18.109375 0 \nL 9.078125 0 \nL 9.078125 54.6875 \nL 18.109375 54.6875 \nL 18.109375 46.1875 \nQ 21.34375 51.125 25.703125 53.5625 \nQ 30.078125 56 35.796875 56 \nQ 45.21875 56 50.046875 50.171875 \nQ 54.890625 44.34375 54.890625 33.015625 \nz\n\" id=\"DejaVuSans-110\"/>\n      </defs>\n      <use xlink:href=\"#DejaVuSans-119\"/>\n      <use x=\"81.787109\" xlink:href=\"#DejaVuSans-101\"/>\n      <use x=\"143.310547\" xlink:href=\"#DejaVuSans-101\"/>\n      <use x=\"204.833984\" xlink:href=\"#DejaVuSans-107\"/>\n      <use x=\"262.744141\" xlink:href=\"#DejaVuSans-95\"/>\n      <use x=\"312.744141\" xlink:href=\"#DejaVuSans-112\"/>\n      <use x=\"376.220703\" xlink:href=\"#DejaVuSans-111\"/>\n      <use x=\"437.402344\" xlink:href=\"#DejaVuSans-115\"/>\n      <use x=\"489.501953\" xlink:href=\"#DejaVuSans-105\"/>\n      <use x=\"517.285156\" xlink:href=\"#DejaVuSans-116\"/>\n      <use x=\"556.494141\" xlink:href=\"#DejaVuSans-105\"/>\n      <use x=\"584.277344\" xlink:href=\"#DejaVuSans-111\"/>\n      <use x=\"645.458984\" xlink:href=\"#DejaVuSans-110\"/>\n     </g>\n    </g>\n   </g>\n  </g>\n </g>\n</svg>\n",
      "image/png": "[encoded data removed]"
     },
     "metadata": {
      "needs_background": "light"
     }
    }
   ],
   "source": [
    "ax = plt.gca()\n",
    "# for s in df.song.unique(): \n",
    "s = \"Satisfy YouPuff Daddy Featuring R. Kelly\"\n",
    "df[df.songid == s].plot(x='week', y='week_position', ax = ax)\n",
    "horiz_line_data = np.array([10 for i in range(len(df[df.songid == s]))])\n",
    "plt.plot(df[df.songid == s].week, horiz_line_data, 'r') \n",
    "plt.gca().invert_yaxis()\n",
    "# print(min(pk))"
   ]
  },
  {
   "cell_type": "code",
   "execution_count": 15,
   "metadata": {},
   "outputs": [],
   "source": [
    "# control points col\n",
    "# (start, start_peak, end_peak, end)\n"
   ]
  },
  {
   "cell_type": "code",
   "execution_count": 16,
   "metadata": {
    "tags": []
   },
   "outputs": [
    {
     "output_type": "stream",
     "name": "stderr",
     "text": [
      "/home/tvarano/anaconda3/lib/python3.8/site-packages/pandas/core/indexing.py:1599: SettingWithCopyWarning: \nA value is trying to be set on a copy of a slice from a DataFrame.\nTry using .loc[row_indexer,col_indexer] = value instead\n\nSee the caveats in the documentation: https://pandas.pydata.org/pandas-docs/stable/user_guide/indexing.html#returning-a-view-versus-a-copy\n  self.obj[key] = infer_fill_value(value)\n/home/tvarano/anaconda3/lib/python3.8/site-packages/pandas/core/indexing.py:1720: SettingWithCopyWarning: \nA value is trying to be set on a copy of a slice from a DataFrame.\nTry using .loc[row_indexer,col_indexer] = value instead\n\nSee the caveats in the documentation: https://pandas.pydata.org/pandas-docs/stable/user_guide/indexing.html#returning-a-view-versus-a-copy\n  self._setitem_single_column(loc, value, pi)\n"
     ]
    }
   ],
   "source": [
    "# finding time before peak\n",
    "# find when week_position == peak\n",
    "# find the smallest weekid for my song\n",
    "# subtract\n",
    "\n",
    "# first hot week\n",
    "# df.days_to_hot = np.nan\n",
    "\n",
    "\n",
    "for s in df.songid.unique():\n",
    "\n",
    "    song_instances = df[df.songid == s].sort_values(by='week')\n",
    "\n",
    "    if len(song_instances[song_instances.week_position <= 10].week) != 0: \n",
    "        week = 1\n",
    "        \n",
    "        # get all peaks and their weeks\n",
    "        # inflection points of graph in form: \n",
    "        # tuple (date, begin), where begin is true if the inflection point is beginning a hot spell\n",
    "        inflections = []\n",
    "        longest_peak = []\n",
    "\n",
    "        # if the first week is already in the top 10\n",
    "        if song_instances.iloc[0].week_position <= 10: \n",
    "            inflections.append((song_instances.iloc[0].week, True))\n",
    "\n",
    "\n",
    "        for i in range(1, len(song_instances)): \n",
    "                \n",
    "            if song_instances.iloc[i].week_position <= 10 and song_instances.iloc[i - 1].week_position > 10: \n",
    "                # this is for grace period\n",
    "                if i > 1 and song_instances.iloc[i-2].week_position <= 10: \n",
    "                    # remove the last ending guy\n",
    "                        inflections.remove(inflections[len(inflections) - 1])\n",
    "                else: \n",
    "                    # if not beginning after a grace period, \n",
    "                    inflections.append((song_instances.iloc[i].week, True))\n",
    "            elif song_instances.iloc[i].week_position > 10 and song_instances.iloc[i - 1].week_position <= 10:\n",
    "                inflections.append((song_instances.iloc[i - 1].week, False))\n",
    "   \n",
    "        # if the song finished in the top 10 and dropped off the charts\n",
    "        if song_instances.iloc[len(song_instances) - 1].week_position <= 10: \n",
    "            inflections.append((song_instances.iloc[len(song_instances) - 1].week, False))\n",
    "\n",
    "        for i in range(0, len(inflections)-1):\n",
    "            longest_date = datetime.timedelta(0)\n",
    "            if len(inflections) == 0 or len(inflections) == 1:\n",
    "                longest_peak = inflections\n",
    "            else:\n",
    "                # TODO look for better ways to find relevant peak (eg. height, top position, etc)\n",
    "                if inflections[i][1] is True and inflections[i+1][1] is False:\n",
    "                    if inflections[i+1][0] - inflections[i][0] >= longest_date:\n",
    "                        longest_date = inflections[i+1][0] - inflections[i][0]\n",
    "                        longest_peak = []\n",
    "                        longest_peak.append(inflections[i])\n",
    "                        longest_peak.append(inflections[i+1])\n",
    "\n",
    "            # longest peak is relevant peak we care about\n",
    "\n",
    "        song_info.at[s, 'start_week'] = min(song_instances.week)\n",
    "        song_info.at[s, 'end_week'] = max(song_instances.week)\n",
    "        song_info.at[s, 'start_peak'] = longest_peak[0][0]\n",
    "        song_info.at[s, 'end_peak'] = longest_peak[1][0]\n",
    "        # control_pts[s] = (min(song_instances.week), max(song_instances.week), longest_peak[0][0], longest_peak[1][0])\n",
    "    \n",
    "        \n",
    "        # print(s)\n",
    "        # print(longest_peak)         \n",
    "                "
   ]
  },
  {
   "cell_type": "code",
   "execution_count": 17,
   "metadata": {},
   "outputs": [
    {
     "output_type": "execute_result",
     "data": {
      "text/plain": [
       "                                                                            song  \\\n",
       "songid                                                                             \n",
       "Dance MonkeyTones And I                                             Dance Monkey   \n",
       "Run It!Chris Brown                                                       Run It!   \n",
       "BabyJustin Bieber Featuring Ludacris                                        Baby   \n",
       "Pray For MeThe Weeknd & Kendrick Lamar                               Pray For Me   \n",
       "Blow Me (One Last Kiss)P!nk                              Blow Me (One Last Kiss)   \n",
       "...                                                                          ...   \n",
       "The Edge Of GloryLady Gaga                                     The Edge Of Glory   \n",
       "The FoxYlvis                                                             The Fox   \n",
       "The Game Of LoveSantana Featuring Michelle Branch               The Game Of Love   \n",
       "The Heart Wants What It WantsSelena Gomez          The Heart Wants What It Wants   \n",
       "The HillsThe Weeknd                                                    The Hills   \n",
       "\n",
       "                                                                           performer  \\\n",
       "songid                                                                                 \n",
       "Dance MonkeyTones And I                                                  Tones And I   \n",
       "Run It!Chris Brown                                                       Chris Brown   \n",
       "BabyJustin Bieber Featuring Ludacris                Justin Bieber Featuring Ludacris   \n",
       "Pray For MeThe Weeknd & Kendrick Lamar                   The Weeknd & Kendrick Lamar   \n",
       "Blow Me (One Last Kiss)P!nk                                                     P!nk   \n",
       "...                                                                              ...   \n",
       "The Edge Of GloryLady Gaga                                                 Lady Gaga   \n",
       "The FoxYlvis                                                                   Ylvis   \n",
       "The Game Of LoveSantana Featuring Michelle Branch  Santana Featuring Michelle Branch   \n",
       "The Heart Wants What It WantsSelena Gomez                               Selena Gomez   \n",
       "The HillsThe Weeknd                                                       The Weeknd   \n",
       "\n",
       "                                                   peak start_week   end_week  \\\n",
       "songid                                                                          \n",
       "Dance MonkeyTones And I                             9.0 2019-10-19 2019-12-28   \n",
       "Run It!Chris Brown                                  1.0 2005-08-27 2006-05-13   \n",
       "BabyJustin Bieber Featuring Ludacris                5.0 2010-02-06 2010-06-19   \n",
       "Pray For MeThe Weeknd & Kendrick Lamar              7.0 2018-02-17 2018-06-30   \n",
       "Blow Me (One Last Kiss)P!nk                         5.0 2012-07-21 2013-01-19   \n",
       "...                                                 ...        ...        ...   \n",
       "The Edge Of GloryLady Gaga                          3.0 2011-05-28 2011-11-05   \n",
       "The FoxYlvis                                        6.0 2013-09-21 2014-01-18   \n",
       "The Game Of LoveSantana Featuring Michelle Branch   5.0 2002-10-05 2003-06-14   \n",
       "The Heart Wants What It WantsSelena Gomez           6.0 2014-11-22 2015-04-04   \n",
       "The HillsThe Weeknd                                 1.0 2015-06-13 2016-05-07   \n",
       "\n",
       "                                                  start_peak   end_peak  \n",
       "songid                                                                   \n",
       "Dance MonkeyTones And I                           2019-12-21 2019-12-21  \n",
       "Run It!Chris Brown                                2005-10-22 2006-02-11  \n",
       "BabyJustin Bieber Featuring Ludacris              2010-04-03 2010-04-24  \n",
       "Pray For MeThe Weeknd & Kendrick Lamar            2018-02-17 2018-03-31  \n",
       "Blow Me (One Last Kiss)P!nk                       2012-09-22 2012-11-03  \n",
       "...                                                      ...        ...  \n",
       "The Edge Of GloryLady Gaga                        2011-05-28 2011-08-13  \n",
       "The FoxYlvis                                      2013-10-12 2013-11-09  \n",
       "The Game Of LoveSantana Featuring Michelle Branch 2002-11-02 2003-01-18  \n",
       "The Heart Wants What It WantsSelena Gomez         2014-12-13 2014-12-13  \n",
       "The HillsThe Weeknd                               2015-08-29 2016-01-09  \n",
       "\n",
       "[1126 rows x 7 columns]"
      ],
      "text/html": "<div>\n<style scoped>\n    .dataframe tbody tr th:only-of-type {\n        vertical-align: middle;\n    }\n\n    .dataframe tbody tr th {\n        vertical-align: top;\n    }\n\n    .dataframe thead th {\n        text-align: right;\n    }\n</style>\n<table border=\"1\" class=\"dataframe\">\n  <thead>\n    <tr style=\"text-align: right;\">\n      <th></th>\n      <th>song</th>\n      <th>performer</th>\n      <th>peak</th>\n      <th>start_week</th>\n      <th>end_week</th>\n      <th>start_peak</th>\n      <th>end_peak</th>\n    </tr>\n    <tr>\n      <th>songid</th>\n      <th></th>\n      <th></th>\n      <th></th>\n      <th></th>\n      <th></th>\n      <th></th>\n      <th></th>\n    </tr>\n  </thead>\n  <tbody>\n    <tr>\n      <th>Dance MonkeyTones And I</th>\n      <td>Dance Monkey</td>\n      <td>Tones And I</td>\n      <td>9.0</td>\n      <td>2019-10-19</td>\n      <td>2019-12-28</td>\n      <td>2019-12-21</td>\n      <td>2019-12-21</td>\n    </tr>\n    <tr>\n      <th>Run It!Chris Brown</th>\n      <td>Run It!</td>\n      <td>Chris Brown</td>\n      <td>1.0</td>\n      <td>2005-08-27</td>\n      <td>2006-05-13</td>\n      <td>2005-10-22</td>\n      <td>2006-02-11</td>\n    </tr>\n    <tr>\n      <th>BabyJustin Bieber Featuring Ludacris</th>\n      <td>Baby</td>\n      <td>Justin Bieber Featuring Ludacris</td>\n      <td>5.0</td>\n      <td>2010-02-06</td>\n      <td>2010-06-19</td>\n      <td>2010-04-03</td>\n      <td>2010-04-24</td>\n    </tr>\n    <tr>\n      <th>Pray For MeThe Weeknd &amp; Kendrick Lamar</th>\n      <td>Pray For Me</td>\n      <td>The Weeknd &amp; Kendrick Lamar</td>\n      <td>7.0</td>\n      <td>2018-02-17</td>\n      <td>2018-06-30</td>\n      <td>2018-02-17</td>\n      <td>2018-03-31</td>\n    </tr>\n    <tr>\n      <th>Blow Me (One Last Kiss)P!nk</th>\n      <td>Blow Me (One Last Kiss)</td>\n      <td>P!nk</td>\n      <td>5.0</td>\n      <td>2012-07-21</td>\n      <td>2013-01-19</td>\n      <td>2012-09-22</td>\n      <td>2012-11-03</td>\n    </tr>\n    <tr>\n      <th>...</th>\n      <td>...</td>\n      <td>...</td>\n      <td>...</td>\n      <td>...</td>\n      <td>...</td>\n      <td>...</td>\n      <td>...</td>\n    </tr>\n    <tr>\n      <th>The Edge Of GloryLady Gaga</th>\n      <td>The Edge Of Glory</td>\n      <td>Lady Gaga</td>\n      <td>3.0</td>\n      <td>2011-05-28</td>\n      <td>2011-11-05</td>\n      <td>2011-05-28</td>\n      <td>2011-08-13</td>\n    </tr>\n    <tr>\n      <th>The FoxYlvis</th>\n      <td>The Fox</td>\n      <td>Ylvis</td>\n      <td>6.0</td>\n      <td>2013-09-21</td>\n      <td>2014-01-18</td>\n      <td>2013-10-12</td>\n      <td>2013-11-09</td>\n    </tr>\n    <tr>\n      <th>The Game Of LoveSantana Featuring Michelle Branch</th>\n      <td>The Game Of Love</td>\n      <td>Santana Featuring Michelle Branch</td>\n      <td>5.0</td>\n      <td>2002-10-05</td>\n      <td>2003-06-14</td>\n      <td>2002-11-02</td>\n      <td>2003-01-18</td>\n    </tr>\n    <tr>\n      <th>The Heart Wants What It WantsSelena Gomez</th>\n      <td>The Heart Wants What It Wants</td>\n      <td>Selena Gomez</td>\n      <td>6.0</td>\n      <td>2014-11-22</td>\n      <td>2015-04-04</td>\n      <td>2014-12-13</td>\n      <td>2014-12-13</td>\n    </tr>\n    <tr>\n      <th>The HillsThe Weeknd</th>\n      <td>The Hills</td>\n      <td>The Weeknd</td>\n      <td>1.0</td>\n      <td>2015-06-13</td>\n      <td>2016-05-07</td>\n      <td>2015-08-29</td>\n      <td>2016-01-09</td>\n    </tr>\n  </tbody>\n</table>\n<p>1126 rows × 7 columns</p>\n</div>"
     },
     "metadata": {},
     "execution_count": 17
    }
   ],
   "source": [
    "# JUST A NOTE these guys dont have peaks because they already hit their peaks before\n",
    "song_info"
   ]
  },
  {
   "cell_type": "code",
   "execution_count": 18,
   "metadata": {},
   "outputs": [],
   "source": [
    "# note we had to deal with prince popping back up on the charts after he died (and we might be dead by tomorrowsoko)\n",
    "# dealt with those weirdly\n",
    "# and then also guys that peaked one week and dipped"
   ]
  },
  {
   "cell_type": "code",
   "execution_count": 19,
   "metadata": {},
   "outputs": [
    {
     "output_type": "stream",
     "name": "stderr",
     "text": [
      "/home/tvarano/anaconda3/lib/python3.8/site-packages/pandas/core/indexing.py:1599: SettingWithCopyWarning: \nA value is trying to be set on a copy of a slice from a DataFrame.\nTry using .loc[row_indexer,col_indexer] = value instead\n\nSee the caveats in the documentation: https://pandas.pydata.org/pandas-docs/stable/user_guide/indexing.html#returning-a-view-versus-a-copy\n  self.obj[key] = infer_fill_value(value)\n/home/tvarano/anaconda3/lib/python3.8/site-packages/pandas/core/indexing.py:1720: SettingWithCopyWarning: \nA value is trying to be set on a copy of a slice from a DataFrame.\nTry using .loc[row_indexer,col_indexer] = value instead\n\nSee the caveats in the documentation: https://pandas.pydata.org/pandas-docs/stable/user_guide/indexing.html#returning-a-view-versus-a-copy\n  self._setitem_single_column(loc, value, pi)\n"
     ]
    }
   ],
   "source": [
    "# make weeks to hot and weeks hot\n",
    "\n",
    "for i, r in song_info.iterrows(): \n",
    "    song_info.at[i, 'weeks_to_hot'] = (r.start_peak - r.start_week).days / 7\n",
    "    song_info.at[i, 'weeks_hot'] = (r.end_peak - r.start_peak).days / 7 + 1\n",
    "    song_info.at[i, 'tail_weeks'] = (r.end_week - r.end_peak).days / 7\n",
    "\n",
    "song_info = song_info.astype({\"weeks_to_hot\": 'float', \"weeks_hot\": 'float', \"tail_weeks\": 'float'})\n"
   ]
  },
  {
   "cell_type": "code",
   "execution_count": 20,
   "metadata": {},
   "outputs": [],
   "source": [
    "for i, r in df.iterrows(): \n",
    "    df.at[i, 'rel_week'] = (r.week - song_info.loc[r.songid].start_week).days / 7"
   ]
  },
  {
   "cell_type": "code",
   "execution_count": 21,
   "metadata": {
    "tags": []
   },
   "outputs": [
    {
     "output_type": "display_data",
     "data": {
      "text/plain": "<Figure size 432x288 with 1 Axes>",
      "image/svg+xml": "<?xml version=\"1.0\" encoding=\"utf-8\" standalone=\"no\"?>\n<!DOCTYPE svg PUBLIC \"-//W3C//DTD SVG 1.1//EN\"\n  \"http://www.w3.org/Graphics/SVG/1.1/DTD/svg11.dtd\">\n<!-- Created with matplotlib (https://matplotlib.org/) -->\n<svg height=\"262.474375pt\" version=\"1.1\" viewBox=\"0 0 375.2875 262.474375\" width=\"375.2875pt\" xmlns=\"http://www.w3.org/2000/svg\" xmlns:xlink=\"http://www.w3.org/1999/xlink\">\n <metadata>\n  <rdf:RDF xmlns:cc=\"http://creativecommons.org/ns#\" xmlns:dc=\"http://purl.org/dc/elements/1.1/\" xmlns:rdf=\"http://www.w3.org/1999/02/22-rdf-syntax-ns#\">\n   <cc:Work>\n    <dc:type rdf:resource=\"http://purl.org/dc/dcmitype/StillImage\"/>\n    <dc:date>2021-05-14T14:10:56.340105</dc:date>\n    <dc:format>image/svg+xml</dc:format>\n    <dc:creator>\n     <cc:Agent>\n      <dc:title>Matplotlib v3.3.4, https://matplotlib.org/</dc:title>\n     </cc:Agent>\n    </dc:creator>\n   </cc:Work>\n  </rdf:RDF>\n </metadata>\n <defs>\n  <style type=\"text/css\">*{stroke-linecap:butt;stroke-linejoin:round;}</style>\n </defs>\n <g id=\"figure_1\">\n  <g id=\"patch_1\">\n   <path d=\"M 0 262.474375 \nL 375.2875 262.474375 \nL 375.2875 0 \nL 0 0 \nz\n\" style=\"fill:none;\"/>\n  </g>\n  <g id=\"axes_1\">\n   <g id=\"patch_2\">\n    <path d=\"M 33.2875 224.64 \nL 368.0875 224.64 \nL 368.0875 7.2 \nL 33.2875 7.2 \nz\n\" style=\"fill:#ffffff;\"/>\n   </g>\n   <g id=\"matplotlib.axis_1\">\n    <g id=\"xtick_1\">\n     <g id=\"line2d_1\">\n      <defs>\n       <path d=\"M 0 0 \nL 0 3.5 \n\" id=\"m0e190aa15e\" style=\"stroke:#000000;stroke-width:0.8;\"/>\n      </defs>\n      <g>\n       <use style=\"stroke:#000000;stroke-width:0.8;\" x=\"48.505682\" xlink:href=\"#m0e190aa15e\" y=\"224.64\"/>\n      </g>\n     </g>\n     <g id=\"text_1\">\n      <!-- 0 -->\n      <g transform=\"translate(45.324432 239.238438)scale(0.1 -0.1)\">\n       <defs>\n        <path d=\"M 31.78125 66.40625 \nQ 24.171875 66.40625 20.328125 58.90625 \nQ 16.5 51.421875 16.5 36.375 \nQ 16.5 21.390625 20.328125 13.890625 \nQ 24.171875 6.390625 31.78125 6.390625 \nQ 39.453125 6.390625 43.28125 13.890625 \nQ 47.125 21.390625 47.125 36.375 \nQ 47.125 51.421875 43.28125 58.90625 \nQ 39.453125 66.40625 31.78125 66.40625 \nz\nM 31.78125 74.21875 \nQ 44.046875 74.21875 50.515625 64.515625 \nQ 56.984375 54.828125 56.984375 36.375 \nQ 56.984375 17.96875 50.515625 8.265625 \nQ 44.046875 -1.421875 31.78125 -1.421875 \nQ 19.53125 -1.421875 13.0625 8.265625 \nQ 6.59375 17.96875 6.59375 36.375 \nQ 6.59375 54.828125 13.0625 64.515625 \nQ 19.53125 74.21875 31.78125 74.21875 \nz\n\" id=\"DejaVuSans-48\"/>\n       </defs>\n       <use xlink:href=\"#DejaVuSans-48\"/>\n      </g>\n     </g>\n    </g>\n    <g id=\"xtick_2\">\n     <g id=\"line2d_2\">\n      <g>\n       <use style=\"stroke:#000000;stroke-width:0.8;\" x=\"88.553529\" xlink:href=\"#m0e190aa15e\" y=\"224.64\"/>\n      </g>\n     </g>\n     <g id=\"text_2\">\n      <!-- 5 -->\n      <g transform=\"translate(85.372279 239.238438)scale(0.1 -0.1)\">\n       <defs>\n        <path d=\"M 10.796875 72.90625 \nL 49.515625 72.90625 \nL 49.515625 64.59375 \nL 19.828125 64.59375 \nL 19.828125 46.734375 \nQ 21.96875 47.46875 24.109375 47.828125 \nQ 26.265625 48.1875 28.421875 48.1875 \nQ 40.625 48.1875 47.75 41.5 \nQ 54.890625 34.8125 54.890625 23.390625 \nQ 54.890625 11.625 47.5625 5.09375 \nQ 40.234375 -1.421875 26.90625 -1.421875 \nQ 22.3125 -1.421875 17.546875 -0.640625 \nQ 12.796875 0.140625 7.71875 1.703125 \nL 7.71875 11.625 \nQ 12.109375 9.234375 16.796875 8.0625 \nQ 21.484375 6.890625 26.703125 6.890625 \nQ 35.15625 6.890625 40.078125 11.328125 \nQ 45.015625 15.765625 45.015625 23.390625 \nQ 45.015625 31 40.078125 35.4375 \nQ 35.15625 39.890625 26.703125 39.890625 \nQ 22.75 39.890625 18.8125 39.015625 \nQ 14.890625 38.140625 10.796875 36.28125 \nz\n\" id=\"DejaVuSans-53\"/>\n       </defs>\n       <use xlink:href=\"#DejaVuSans-53\"/>\n      </g>\n     </g>\n    </g>\n    <g id=\"xtick_3\">\n     <g id=\"line2d_3\">\n      <g>\n       <use style=\"stroke:#000000;stroke-width:0.8;\" x=\"128.601376\" xlink:href=\"#m0e190aa15e\" y=\"224.64\"/>\n      </g>\n     </g>\n     <g id=\"text_3\">\n      <!-- 10 -->\n      <g transform=\"translate(122.238876 239.238438)scale(0.1 -0.1)\">\n       <defs>\n        <path d=\"M 12.40625 8.296875 \nL 28.515625 8.296875 \nL 28.515625 63.921875 \nL 10.984375 60.40625 \nL 10.984375 69.390625 \nL 28.421875 72.90625 \nL 38.28125 72.90625 \nL 38.28125 8.296875 \nL 54.390625 8.296875 \nL 54.390625 0 \nL 12.40625 0 \nz\n\" id=\"DejaVuSans-49\"/>\n       </defs>\n       <use xlink:href=\"#DejaVuSans-49\"/>\n       <use x=\"63.623047\" xlink:href=\"#DejaVuSans-48\"/>\n      </g>\n     </g>\n    </g>\n    <g id=\"xtick_4\">\n     <g id=\"line2d_4\">\n      <g>\n       <use style=\"stroke:#000000;stroke-width:0.8;\" x=\"168.649222\" xlink:href=\"#m0e190aa15e\" y=\"224.64\"/>\n      </g>\n     </g>\n     <g id=\"text_4\">\n      <!-- 15 -->\n      <g transform=\"translate(162.286722 239.238438)scale(0.1 -0.1)\">\n       <use xlink:href=\"#DejaVuSans-49\"/>\n       <use x=\"63.623047\" xlink:href=\"#DejaVuSans-53\"/>\n      </g>\n     </g>\n    </g>\n    <g id=\"xtick_5\">\n     <g id=\"line2d_5\">\n      <g>\n       <use style=\"stroke:#000000;stroke-width:0.8;\" x=\"208.697069\" xlink:href=\"#m0e190aa15e\" y=\"224.64\"/>\n      </g>\n     </g>\n     <g id=\"text_5\">\n      <!-- 20 -->\n      <g transform=\"translate(202.334569 239.238438)scale(0.1 -0.1)\">\n       <defs>\n        <path d=\"M 19.1875 8.296875 \nL 53.609375 8.296875 \nL 53.609375 0 \nL 7.328125 0 \nL 7.328125 8.296875 \nQ 12.9375 14.109375 22.625 23.890625 \nQ 32.328125 33.6875 34.8125 36.53125 \nQ 39.546875 41.84375 41.421875 45.53125 \nQ 43.3125 49.21875 43.3125 52.78125 \nQ 43.3125 58.59375 39.234375 62.25 \nQ 35.15625 65.921875 28.609375 65.921875 \nQ 23.96875 65.921875 18.8125 64.3125 \nQ 13.671875 62.703125 7.8125 59.421875 \nL 7.8125 69.390625 \nQ 13.765625 71.78125 18.9375 73 \nQ 24.125 74.21875 28.421875 74.21875 \nQ 39.75 74.21875 46.484375 68.546875 \nQ 53.21875 62.890625 53.21875 53.421875 \nQ 53.21875 48.921875 51.53125 44.890625 \nQ 49.859375 40.875 45.40625 35.40625 \nQ 44.1875 33.984375 37.640625 27.21875 \nQ 31.109375 20.453125 19.1875 8.296875 \nz\n\" id=\"DejaVuSans-50\"/>\n       </defs>\n       <use xlink:href=\"#DejaVuSans-50\"/>\n       <use x=\"63.623047\" xlink:href=\"#DejaVuSans-48\"/>\n      </g>\n     </g>\n    </g>\n    <g id=\"xtick_6\">\n     <g id=\"line2d_6\">\n      <g>\n       <use style=\"stroke:#000000;stroke-width:0.8;\" x=\"248.744916\" xlink:href=\"#m0e190aa15e\" y=\"224.64\"/>\n      </g>\n     </g>\n     <g id=\"text_6\">\n      <!-- 25 -->\n      <g transform=\"translate(242.382416 239.238438)scale(0.1 -0.1)\">\n       <use xlink:href=\"#DejaVuSans-50\"/>\n       <use x=\"63.623047\" xlink:href=\"#DejaVuSans-53\"/>\n      </g>\n     </g>\n    </g>\n    <g id=\"xtick_7\">\n     <g id=\"line2d_7\">\n      <g>\n       <use style=\"stroke:#000000;stroke-width:0.8;\" x=\"288.792763\" xlink:href=\"#m0e190aa15e\" y=\"224.64\"/>\n      </g>\n     </g>\n     <g id=\"text_7\">\n      <!-- 30 -->\n      <g transform=\"translate(282.430263 239.238438)scale(0.1 -0.1)\">\n       <defs>\n        <path d=\"M 40.578125 39.3125 \nQ 47.65625 37.796875 51.625 33 \nQ 55.609375 28.21875 55.609375 21.1875 \nQ 55.609375 10.40625 48.1875 4.484375 \nQ 40.765625 -1.421875 27.09375 -1.421875 \nQ 22.515625 -1.421875 17.65625 -0.515625 \nQ 12.796875 0.390625 7.625 2.203125 \nL 7.625 11.71875 \nQ 11.71875 9.328125 16.59375 8.109375 \nQ 21.484375 6.890625 26.8125 6.890625 \nQ 36.078125 6.890625 40.9375 10.546875 \nQ 45.796875 14.203125 45.796875 21.1875 \nQ 45.796875 27.640625 41.28125 31.265625 \nQ 36.765625 34.90625 28.71875 34.90625 \nL 20.21875 34.90625 \nL 20.21875 43.015625 \nL 29.109375 43.015625 \nQ 36.375 43.015625 40.234375 45.921875 \nQ 44.09375 48.828125 44.09375 54.296875 \nQ 44.09375 59.90625 40.109375 62.90625 \nQ 36.140625 65.921875 28.71875 65.921875 \nQ 24.65625 65.921875 20.015625 65.03125 \nQ 15.375 64.15625 9.8125 62.3125 \nL 9.8125 71.09375 \nQ 15.4375 72.65625 20.34375 73.4375 \nQ 25.25 74.21875 29.59375 74.21875 \nQ 40.828125 74.21875 47.359375 69.109375 \nQ 53.90625 64.015625 53.90625 55.328125 \nQ 53.90625 49.265625 50.4375 45.09375 \nQ 46.96875 40.921875 40.578125 39.3125 \nz\n\" id=\"DejaVuSans-51\"/>\n       </defs>\n       <use xlink:href=\"#DejaVuSans-51\"/>\n       <use x=\"63.623047\" xlink:href=\"#DejaVuSans-48\"/>\n      </g>\n     </g>\n    </g>\n    <g id=\"xtick_8\">\n     <g id=\"line2d_8\">\n      <g>\n       <use style=\"stroke:#000000;stroke-width:0.8;\" x=\"328.84061\" xlink:href=\"#m0e190aa15e\" y=\"224.64\"/>\n      </g>\n     </g>\n     <g id=\"text_8\">\n      <!-- 35 -->\n      <g transform=\"translate(322.47811 239.238438)scale(0.1 -0.1)\">\n       <use xlink:href=\"#DejaVuSans-51\"/>\n       <use x=\"63.623047\" xlink:href=\"#DejaVuSans-53\"/>\n      </g>\n     </g>\n    </g>\n    <g id=\"text_9\">\n     <!-- rel_week -->\n     <g transform=\"translate(178.641406 252.916562)scale(0.1 -0.1)\">\n      <defs>\n       <path d=\"M 41.109375 46.296875 \nQ 39.59375 47.171875 37.8125 47.578125 \nQ 36.03125 48 33.890625 48 \nQ 26.265625 48 22.1875 43.046875 \nQ 18.109375 38.09375 18.109375 28.8125 \nL 18.109375 0 \nL 9.078125 0 \nL 9.078125 54.6875 \nL 18.109375 54.6875 \nL 18.109375 46.1875 \nQ 20.953125 51.171875 25.484375 53.578125 \nQ 30.03125 56 36.53125 56 \nQ 37.453125 56 38.578125 55.875 \nQ 39.703125 55.765625 41.0625 55.515625 \nz\n\" id=\"DejaVuSans-114\"/>\n       <path d=\"M 56.203125 29.59375 \nL 56.203125 25.203125 \nL 14.890625 25.203125 \nQ 15.484375 15.921875 20.484375 11.0625 \nQ 25.484375 6.203125 34.421875 6.203125 \nQ 39.59375 6.203125 44.453125 7.46875 \nQ 49.3125 8.734375 54.109375 11.28125 \nL 54.109375 2.78125 \nQ 49.265625 0.734375 44.1875 -0.34375 \nQ 39.109375 -1.421875 33.890625 -1.421875 \nQ 20.796875 -1.421875 13.15625 6.1875 \nQ 5.515625 13.8125 5.515625 26.8125 \nQ 5.515625 40.234375 12.765625 48.109375 \nQ 20.015625 56 32.328125 56 \nQ 43.359375 56 49.78125 48.890625 \nQ 56.203125 41.796875 56.203125 29.59375 \nz\nM 47.21875 32.234375 \nQ 47.125 39.59375 43.09375 43.984375 \nQ 39.0625 48.390625 32.421875 48.390625 \nQ 24.90625 48.390625 20.390625 44.140625 \nQ 15.875 39.890625 15.1875 32.171875 \nz\n\" id=\"DejaVuSans-101\"/>\n       <path d=\"M 9.421875 75.984375 \nL 18.40625 75.984375 \nL 18.40625 0 \nL 9.421875 0 \nz\n\" id=\"DejaVuSans-108\"/>\n       <path d=\"M 50.984375 -16.609375 \nL 50.984375 -23.578125 \nL -0.984375 -23.578125 \nL -0.984375 -16.609375 \nz\n\" id=\"DejaVuSans-95\"/>\n       <path d=\"M 4.203125 54.6875 \nL 13.1875 54.6875 \nL 24.421875 12.015625 \nL 35.59375 54.6875 \nL 46.1875 54.6875 \nL 57.421875 12.015625 \nL 68.609375 54.6875 \nL 77.59375 54.6875 \nL 63.28125 0 \nL 52.6875 0 \nL 40.921875 44.828125 \nL 29.109375 0 \nL 18.5 0 \nz\n\" id=\"DejaVuSans-119\"/>\n       <path d=\"M 9.078125 75.984375 \nL 18.109375 75.984375 \nL 18.109375 31.109375 \nL 44.921875 54.6875 \nL 56.390625 54.6875 \nL 27.390625 29.109375 \nL 57.625 0 \nL 45.90625 0 \nL 18.109375 26.703125 \nL 18.109375 0 \nL 9.078125 0 \nz\n\" id=\"DejaVuSans-107\"/>\n      </defs>\n      <use xlink:href=\"#DejaVuSans-114\"/>\n      <use x=\"38.863281\" xlink:href=\"#DejaVuSans-101\"/>\n      <use x=\"100.386719\" xlink:href=\"#DejaVuSans-108\"/>\n      <use x=\"128.169922\" xlink:href=\"#DejaVuSans-95\"/>\n      <use x=\"178.169922\" xlink:href=\"#DejaVuSans-119\"/>\n      <use x=\"259.957031\" xlink:href=\"#DejaVuSans-101\"/>\n      <use x=\"321.480469\" xlink:href=\"#DejaVuSans-101\"/>\n      <use x=\"383.003906\" xlink:href=\"#DejaVuSans-107\"/>\n     </g>\n    </g>\n   </g>\n   <g id=\"matplotlib.axis_2\">\n    <g id=\"ytick_1\">\n     <g id=\"line2d_9\">\n      <defs>\n       <path d=\"M 0 0 \nL -3.5 0 \n\" id=\"m43beb5339e\" style=\"stroke:#000000;stroke-width:0.8;\"/>\n      </defs>\n      <g>\n       <use style=\"stroke:#000000;stroke-width:0.8;\" x=\"33.2875\" xlink:href=\"#m43beb5339e\" y=\"15.066568\"/>\n      </g>\n     </g>\n     <g id=\"text_10\">\n      <!-- 0 -->\n      <g transform=\"translate(19.925 18.865786)scale(0.1 -0.1)\">\n       <use xlink:href=\"#DejaVuSans-48\"/>\n      </g>\n     </g>\n    </g>\n    <g id=\"ytick_2\">\n     <g id=\"line2d_10\">\n      <g>\n       <use style=\"stroke:#000000;stroke-width:0.8;\" x=\"33.2875\" xlink:href=\"#m43beb5339e\" y=\"55.407941\"/>\n      </g>\n     </g>\n     <g id=\"text_11\">\n      <!-- 20 -->\n      <g transform=\"translate(13.5625 59.207159)scale(0.1 -0.1)\">\n       <use xlink:href=\"#DejaVuSans-50\"/>\n       <use x=\"63.623047\" xlink:href=\"#DejaVuSans-48\"/>\n      </g>\n     </g>\n    </g>\n    <g id=\"ytick_3\">\n     <g id=\"line2d_11\">\n      <g>\n       <use style=\"stroke:#000000;stroke-width:0.8;\" x=\"33.2875\" xlink:href=\"#m43beb5339e\" y=\"95.749314\"/>\n      </g>\n     </g>\n     <g id=\"text_12\">\n      <!-- 40 -->\n      <g transform=\"translate(13.5625 99.548532)scale(0.1 -0.1)\">\n       <defs>\n        <path d=\"M 37.796875 64.3125 \nL 12.890625 25.390625 \nL 37.796875 25.390625 \nz\nM 35.203125 72.90625 \nL 47.609375 72.90625 \nL 47.609375 25.390625 \nL 58.015625 25.390625 \nL 58.015625 17.1875 \nL 47.609375 17.1875 \nL 47.609375 0 \nL 37.796875 0 \nL 37.796875 17.1875 \nL 4.890625 17.1875 \nL 4.890625 26.703125 \nz\n\" id=\"DejaVuSans-52\"/>\n       </defs>\n       <use xlink:href=\"#DejaVuSans-52\"/>\n       <use x=\"63.623047\" xlink:href=\"#DejaVuSans-48\"/>\n      </g>\n     </g>\n    </g>\n    <g id=\"ytick_4\">\n     <g id=\"line2d_12\">\n      <g>\n       <use style=\"stroke:#000000;stroke-width:0.8;\" x=\"33.2875\" xlink:href=\"#m43beb5339e\" y=\"136.090686\"/>\n      </g>\n     </g>\n     <g id=\"text_13\">\n      <!-- 60 -->\n      <g transform=\"translate(13.5625 139.889905)scale(0.1 -0.1)\">\n       <defs>\n        <path d=\"M 33.015625 40.375 \nQ 26.375 40.375 22.484375 35.828125 \nQ 18.609375 31.296875 18.609375 23.390625 \nQ 18.609375 15.53125 22.484375 10.953125 \nQ 26.375 6.390625 33.015625 6.390625 \nQ 39.65625 6.390625 43.53125 10.953125 \nQ 47.40625 15.53125 47.40625 23.390625 \nQ 47.40625 31.296875 43.53125 35.828125 \nQ 39.65625 40.375 33.015625 40.375 \nz\nM 52.59375 71.296875 \nL 52.59375 62.3125 \nQ 48.875 64.0625 45.09375 64.984375 \nQ 41.3125 65.921875 37.59375 65.921875 \nQ 27.828125 65.921875 22.671875 59.328125 \nQ 17.53125 52.734375 16.796875 39.40625 \nQ 19.671875 43.65625 24.015625 45.921875 \nQ 28.375 48.1875 33.59375 48.1875 \nQ 44.578125 48.1875 50.953125 41.515625 \nQ 57.328125 34.859375 57.328125 23.390625 \nQ 57.328125 12.15625 50.6875 5.359375 \nQ 44.046875 -1.421875 33.015625 -1.421875 \nQ 20.359375 -1.421875 13.671875 8.265625 \nQ 6.984375 17.96875 6.984375 36.375 \nQ 6.984375 53.65625 15.1875 63.9375 \nQ 23.390625 74.21875 37.203125 74.21875 \nQ 40.921875 74.21875 44.703125 73.484375 \nQ 48.484375 72.75 52.59375 71.296875 \nz\n\" id=\"DejaVuSans-54\"/>\n       </defs>\n       <use xlink:href=\"#DejaVuSans-54\"/>\n       <use x=\"63.623047\" xlink:href=\"#DejaVuSans-48\"/>\n      </g>\n     </g>\n    </g>\n    <g id=\"ytick_5\">\n     <g id=\"line2d_13\">\n      <g>\n       <use style=\"stroke:#000000;stroke-width:0.8;\" x=\"33.2875\" xlink:href=\"#m43beb5339e\" y=\"176.432059\"/>\n      </g>\n     </g>\n     <g id=\"text_14\">\n      <!-- 80 -->\n      <g transform=\"translate(13.5625 180.231278)scale(0.1 -0.1)\">\n       <defs>\n        <path d=\"M 31.78125 34.625 \nQ 24.75 34.625 20.71875 30.859375 \nQ 16.703125 27.09375 16.703125 20.515625 \nQ 16.703125 13.921875 20.71875 10.15625 \nQ 24.75 6.390625 31.78125 6.390625 \nQ 38.8125 6.390625 42.859375 10.171875 \nQ 46.921875 13.96875 46.921875 20.515625 \nQ 46.921875 27.09375 42.890625 30.859375 \nQ 38.875 34.625 31.78125 34.625 \nz\nM 21.921875 38.8125 \nQ 15.578125 40.375 12.03125 44.71875 \nQ 8.5 49.078125 8.5 55.328125 \nQ 8.5 64.0625 14.71875 69.140625 \nQ 20.953125 74.21875 31.78125 74.21875 \nQ 42.671875 74.21875 48.875 69.140625 \nQ 55.078125 64.0625 55.078125 55.328125 \nQ 55.078125 49.078125 51.53125 44.71875 \nQ 48 40.375 41.703125 38.8125 \nQ 48.828125 37.15625 52.796875 32.3125 \nQ 56.78125 27.484375 56.78125 20.515625 \nQ 56.78125 9.90625 50.3125 4.234375 \nQ 43.84375 -1.421875 31.78125 -1.421875 \nQ 19.734375 -1.421875 13.25 4.234375 \nQ 6.78125 9.90625 6.78125 20.515625 \nQ 6.78125 27.484375 10.78125 32.3125 \nQ 14.796875 37.15625 21.921875 38.8125 \nz\nM 18.3125 54.390625 \nQ 18.3125 48.734375 21.84375 45.5625 \nQ 25.390625 42.390625 31.78125 42.390625 \nQ 38.140625 42.390625 41.71875 45.5625 \nQ 45.3125 48.734375 45.3125 54.390625 \nQ 45.3125 60.0625 41.71875 63.234375 \nQ 38.140625 66.40625 31.78125 66.40625 \nQ 25.390625 66.40625 21.84375 63.234375 \nQ 18.3125 60.0625 18.3125 54.390625 \nz\n\" id=\"DejaVuSans-56\"/>\n       </defs>\n       <use xlink:href=\"#DejaVuSans-56\"/>\n       <use x=\"63.623047\" xlink:href=\"#DejaVuSans-48\"/>\n      </g>\n     </g>\n    </g>\n    <g id=\"ytick_6\">\n     <g id=\"line2d_14\">\n      <g>\n       <use style=\"stroke:#000000;stroke-width:0.8;\" x=\"33.2875\" xlink:href=\"#m43beb5339e\" y=\"216.773432\"/>\n      </g>\n     </g>\n     <g id=\"text_15\">\n      <!-- 100 -->\n      <g transform=\"translate(7.2 220.572651)scale(0.1 -0.1)\">\n       <use xlink:href=\"#DejaVuSans-49\"/>\n       <use x=\"63.623047\" xlink:href=\"#DejaVuSans-48\"/>\n       <use x=\"127.246094\" xlink:href=\"#DejaVuSans-48\"/>\n      </g>\n     </g>\n    </g>\n   </g>\n   <g id=\"line2d_15\">\n    <path clip-path=\"url(#p0bbc431fe2)\" d=\"M 48.505682 103.817588 \nL 56.515251 91.715176 \nL 64.524821 47.339666 \nL 72.53439 41.28846 \nL 80.543959 47.339666 \nL 88.553529 47.339666 \nL 96.563098 47.339666 \nL 104.572667 51.373803 \nL 112.582237 49.356735 \nL 120.591806 43.305529 \nL 128.601376 17.083636 \nL 136.610945 17.083636 \nL 144.620514 17.083636 \nL 152.630084 19.100705 \nL 160.639653 19.100705 \nL 168.649222 21.117774 \nL 176.658792 25.151911 \nL 184.668361 25.151911 \nL 192.677931 25.151911 \nL 200.6875 29.186048 \nL 208.697069 35.237254 \nL 216.706639 41.28846 \nL 224.716208 43.305529 \nL 232.725778 51.373803 \nL 240.735347 61.459147 \nL 248.744916 61.459147 \nL 256.754486 83.646902 \nL 264.764055 89.698108 \nL 272.773624 101.800519 \nL 280.783194 109.868794 \n\" style=\"fill:none;stroke:#1f77b4;stroke-linecap:square;stroke-width:1.5;\"/>\n   </g>\n   <g id=\"line2d_16\">\n    <path clip-path=\"url(#p0bbc431fe2)\" d=\"M 48.505682 180.466197 \nL 56.515251 130.039481 \nL 64.524821 89.698108 \nL 72.53439 35.237254 \nL 80.543959 21.117774 \nL 88.553529 17.083636 \nL 96.563098 17.083636 \nL 104.572667 17.083636 \nL 112.582237 17.083636 \nL 120.591806 19.100705 \nL 128.601376 19.100705 \nL 136.610945 19.100705 \nL 144.620514 19.100705 \nL 152.630084 21.117774 \nL 160.639653 23.134842 \nL 168.649222 19.100705 \nL 176.658792 19.100705 \nL 184.668361 21.117774 \nL 192.677931 27.16898 \nL 200.6875 27.16898 \nL 208.697069 33.220186 \nL 216.706639 37.254323 \nL 224.716208 51.373803 \nL 232.725778 59.442078 \nL 240.735347 59.442078 \nL 248.744916 63.476215 \nL 256.754486 79.612764 \nL 264.764055 91.715176 \nL 272.773624 95.749314 \nL 280.783194 95.749314 \nL 288.792763 105.834657 \n\" style=\"fill:none;stroke:#ff7f0e;stroke-linecap:square;stroke-width:1.5;\"/>\n   </g>\n   <g id=\"line2d_17\">\n    <path clip-path=\"url(#p0bbc431fe2)\" d=\"M 48.505682 65.493284 \nL 56.515251 55.407941 \nL 64.524821 77.595696 \nL 72.53439 49.356735 \nL 80.543959 45.322597 \nL 88.553529 29.186048 \nL 96.563098 25.151911 \nL 104.572667 27.16898 \nL 112.582237 31.203117 \nL 120.591806 49.356735 \nL 128.601376 45.322597 \nL 136.610945 49.356735 \nL 144.620514 57.425009 \nL 152.630084 83.646902 \nL 160.639653 105.834657 \nL 168.649222 140.124824 \nL 176.658792 176.432059 \nL 184.668361 196.602746 \n\" style=\"fill:none;stroke:#2ca02c;stroke-linecap:square;stroke-width:1.5;\"/>\n   </g>\n   <g id=\"line2d_18\">\n    <path clip-path=\"url(#p0bbc431fe2)\" d=\"M 48.505682 202.653952 \nL 56.515251 208.705158 \nL 64.524821 214.756364 \nL 72.53439 172.397922 \nL 80.543959 168.363785 \nL 88.553529 134.073618 \nL 96.563098 134.073618 \nL 104.572667 138.107755 \nL 112.582237 126.005343 \nL 120.591806 126.005343 \nL 128.601376 123.988275 \nL 136.610945 136.090686 \nL 144.620514 115.92 \nL 152.630084 85.66397 \nL 160.639653 69.527421 \nL 168.649222 69.527421 \nL 176.658792 77.595696 \nL 184.668361 71.54449 \nL 192.677931 65.493284 \nL 200.6875 61.459147 \nL 208.697069 59.442078 \nL 216.706639 61.459147 \nL 224.716208 53.390872 \nL 232.725778 41.28846 \nL 240.735347 35.237254 \nL 248.744916 39.271391 \nL 256.754486 37.254323 \nL 264.764055 35.237254 \nL 272.773624 41.28846 \nL 280.783194 37.254323 \nL 288.792763 37.254323 \nL 296.802333 43.305529 \nL 304.811902 41.28846 \nL 312.821471 47.339666 \nL 320.831041 65.493284 \nL 328.84061 77.595696 \nL 336.850179 77.595696 \nL 344.859749 81.629833 \nL 352.869318 97.766382 \n\" style=\"fill:none;stroke:#d62728;stroke-linecap:square;stroke-width:1.5;\"/>\n   </g>\n   <g id=\"line2d_19\">\n    <path clip-path=\"url(#p0bbc431fe2)\" d=\"M 48.505682 21.117774 \nL 56.515251 53.390872 \nL 64.524821 31.203117 \nL 72.53439 29.186048 \nL 80.543959 27.16898 \nL 88.553529 27.16898 \nL 96.563098 27.16898 \nL 104.572667 27.16898 \nL 112.582237 27.16898 \nL 120.591806 29.186048 \nL 128.601376 31.203117 \nL 136.610945 35.237254 \nL 144.620514 39.271391 \nL 152.630084 43.305529 \nL 160.639653 47.339666 \nL 168.649222 57.425009 \nL 176.658792 65.493284 \nL 184.668361 73.561558 \nL 192.677931 83.646902 \nL 200.6875 77.595696 \nL 208.697069 89.698108 \nL 216.706639 95.749314 \nL 224.716208 103.817588 \nL 232.725778 115.92 \n\" style=\"fill:none;stroke:#9467bd;stroke-linecap:square;stroke-width:1.5;\"/>\n   </g>\n   <g id=\"line2d_20\">\n    <path clip-path=\"url(#p0bbc431fe2)\" d=\"M 48.505682 25.151911 \nL 56.515251 37.254323 \nL 64.524821 35.237254 \nL 72.53439 39.271391 \nL 80.543959 39.271391 \nL 88.553529 45.322597 \nL 96.563098 39.271391 \nL 104.572667 47.339666 \nL 112.582237 49.356735 \nL 120.591806 75.578627 \nL 128.601376 79.612764 \nL 136.610945 105.834657 \nL 144.620514 162.312579 \nL 152.630084 172.397922 \nL 160.639653 204.67102 \n\" style=\"fill:none;stroke:#8c564b;stroke-linecap:square;stroke-width:1.5;\"/>\n   </g>\n   <g id=\"line2d_21\">\n    <path clip-path=\"url(#p0bbc431fe2)\" d=\"M 48.505682 134.073618 \nL 56.515251 65.493284 \nL 64.524821 29.186048 \nL 72.53439 35.237254 \nL 80.543959 41.28846 \nL 88.553529 43.305529 \nL 96.563098 53.390872 \nL 104.572667 63.476215 \nL 112.582237 91.715176 \nL 120.591806 97.766382 \nL 128.601376 115.92 \nL 136.610945 115.92 \nL 144.620514 123.988275 \nL 152.630084 117.937069 \nL 160.639653 136.090686 \nL 168.649222 132.056549 \nL 176.658792 136.090686 \nL 184.668361 144.158961 \nL 192.677931 154.244304 \nL 200.6875 170.380853 \n\" style=\"fill:none;stroke:#e377c2;stroke-linecap:square;stroke-width:1.5;\"/>\n   </g>\n   <g id=\"line2d_22\">\n    <path clip-path=\"url(#p0bbc431fe2)\" d=\"M 48.505682 212.739295 \nL 56.515251 206.688089 \nL 64.524821 198.619814 \nL 72.53439 156.261373 \nL 80.543959 75.578627 \nL 88.553529 61.459147 \nL 96.563098 51.373803 \nL 104.572667 41.28846 \nL 112.582237 29.186048 \nL 120.591806 27.16898 \nL 128.601376 23.134842 \nL 136.610945 19.100705 \nL 144.620514 21.117774 \nL 152.630084 23.134842 \nL 160.639653 23.134842 \nL 168.649222 17.083636 \nL 176.658792 27.16898 \nL 184.668361 29.186048 \nL 192.677931 35.237254 \nL 200.6875 55.407941 \nL 208.697069 57.425009 \nL 216.706639 65.493284 \nL 224.716208 69.527421 \nL 232.725778 83.646902 \nL 240.735347 99.783451 \nL 248.744916 109.868794 \n\" style=\"fill:none;stroke:#7f7f7f;stroke-linecap:square;stroke-width:1.5;\"/>\n   </g>\n   <g id=\"line2d_23\">\n    <path clip-path=\"url(#p0bbc431fe2)\" d=\"M 48.505682 152.227236 \nL 56.515251 83.646902 \nL 64.524821 53.390872 \nL 72.53439 33.220186 \nL 80.543959 27.16898 \nL 88.553529 25.151911 \nL 96.563098 23.134842 \nL 104.572667 23.134842 \nL 112.582237 23.134842 \nL 120.591806 23.134842 \nL 128.601376 21.117774 \nL 136.610945 21.117774 \nL 144.620514 23.134842 \nL 152.630084 29.186048 \nL 160.639653 37.254323 \nL 168.649222 43.305529 \nL 176.658792 61.459147 \nL 184.668361 63.476215 \nL 192.677931 71.54449 \nL 200.6875 89.698108 \nL 208.697069 103.817588 \nL 216.706639 109.868794 \n\" style=\"fill:none;stroke:#bcbd22;stroke-linecap:square;stroke-width:1.5;\"/>\n   </g>\n   <g id=\"line2d_24\">\n    <path clip-path=\"url(#p0bbc431fe2)\" d=\"M 48.505682 206.688089 \nL 56.515251 174.414991 \nL 64.524821 128.022412 \nL 72.53439 97.766382 \nL 80.543959 75.578627 \nL 88.553529 55.407941 \nL 96.563098 49.356735 \nL 104.572667 17.083636 \nL 112.582237 17.083636 \nL 120.591806 19.100705 \nL 128.601376 19.100705 \nL 136.610945 19.100705 \nL 144.620514 19.100705 \nL 152.630084 23.134842 \nL 160.639653 19.100705 \nL 168.649222 19.100705 \nL 176.658792 23.134842 \nL 184.668361 25.151911 \nL 192.677931 29.186048 \nL 200.6875 35.237254 \nL 208.697069 37.254323 \nL 216.706639 47.339666 \nL 224.716208 59.442078 \nL 232.725778 59.442078 \nL 240.735347 81.629833 \nL 248.744916 95.749314 \nL 256.754486 85.66397 \nL 264.764055 97.766382 \nL 272.773624 107.851725 \n\" style=\"fill:none;stroke:#17becf;stroke-linecap:square;stroke-width:1.5;\"/>\n   </g>\n   <g id=\"patch_3\">\n    <path d=\"M 33.2875 224.64 \nL 33.2875 7.2 \n\" style=\"fill:none;stroke:#000000;stroke-linecap:square;stroke-linejoin:miter;stroke-width:0.8;\"/>\n   </g>\n   <g id=\"patch_4\">\n    <path d=\"M 368.0875 224.64 \nL 368.0875 7.2 \n\" style=\"fill:none;stroke:#000000;stroke-linecap:square;stroke-linejoin:miter;stroke-width:0.8;\"/>\n   </g>\n   <g id=\"patch_5\">\n    <path d=\"M 33.2875 224.64 \nL 368.0875 224.64 \n\" style=\"fill:none;stroke:#000000;stroke-linecap:square;stroke-linejoin:miter;stroke-width:0.8;\"/>\n   </g>\n   <g id=\"patch_6\">\n    <path d=\"M 33.2875 7.2 \nL 368.0875 7.2 \n\" style=\"fill:none;stroke:#000000;stroke-linecap:square;stroke-linejoin:miter;stroke-width:0.8;\"/>\n   </g>\n  </g>\n </g>\n <defs>\n  <clipPath id=\"p0bbc431fe2\">\n   <rect height=\"217.44\" width=\"334.8\" x=\"33.2875\" y=\"7.2\"/>\n  </clipPath>\n </defs>\n</svg>\n",
      "image/png": "[encoded data removed]"
     },
     "metadata": {
      "needs_background": "light"
     }
    }
   ],
   "source": [
    "# a couple graphs to make pretty and look at\n",
    "# song_info[song_info.weeks_to_hot <= 52].hist(column='weeks_to_hot')\n",
    "# song_info[song_info.weeks_hot <= 25].hist(column='weeks_hot')\n",
    "# song_info[song_info.tail_weeks <= 52].hist(column='tail_weeks')\n",
    "sngs = song_info.sample(n=10).index.values\n",
    "ax = plt.gca()\n",
    "tmp = df.sort_values(by='week')\n",
    "for s in sngs: \n",
    "    tmp[tmp.songid == s].plot(x='rel_week', y='week_position', ax=ax)\n",
    "plt.gca().invert_yaxis()\n",
    "ax.get_legend().remove()\n",
    "plt.show()"
   ]
  },
  {
   "cell_type": "code",
   "execution_count": 22,
   "metadata": {},
   "outputs": [
    {
     "output_type": "error",
     "ename": "SyntaxError",
     "evalue": "invalid syntax (<ipython-input-22-6e6bd1ba9ecd>, line 12)",
     "traceback": [
      "\u001b[0;36m  File \u001b[0;32m\"<ipython-input-22-6e6bd1ba9ecd>\"\u001b[0;36m, line \u001b[0;32m12\u001b[0m\n\u001b[0;31m    pos_lost = abs(int(df[(df.songid == s) & (df.week == df.end_peak)].week_position) - int(df[(df.songid == s) & (df.week == df.end_week)].week_position))\u001b[0m\n\u001b[0m    ^\u001b[0m\n\u001b[0;31mSyntaxError\u001b[0m\u001b[0;31m:\u001b[0m invalid syntax\n"
     ]
    }
   ],
   "source": [
    "# More data points \n",
    "# time at peak value\n",
    "\n",
    "# TODO REWRITE THIS\n",
    "dct = {s: {} for s in df.songid.unique()}\n",
    "for s in df.songid.unique(): \n",
    "    # time above 10 total\n",
    "    dct[s]['time_at_top_10'] = len(df[(df.songid == s) & (df.week_position <= 10)])\n",
    "    # slope of the climb (-1 if started in the top 10)\n",
    "    pos_climbed = abs(int(df[(df.songid == s) & (df.week == df.start_peak)].week_position) - int(df[(df.songid == s) & (df.week == df.start_week)].week_position))\n",
    "    dct[s]['climb_slope'] = -1 if df[df.songid == s].weeks_to_hot.values[0] == 0 else (pos_climbed/df[df.songid == s].weeks_to_hot.values[0]\n",
    "    # slope of the tail (-1 if it just fell off the charts)\n",
    "    pos_lost = abs(int(df[(df.songid == s) & (df.week == df.end_peak)].week_position) - int(df[(df.songid == s) & (df.week == df.end_week)].week_position))\n",
    "    dct[s]['tail_slope'] = -1 if df[df.songid == s].tail_weeks.values[0] == 0 else (pos_lost/df[df.songid == s].tail_weeks.values[0]\n",
    "    # average value\n",
    "    dct[s]['avg_position'] = -1\n",
    "    # weeks on chart\n",
    "    # instance\n",
    "\n"
   ]
  },
  {
   "cell_type": "code",
   "execution_count": 98,
   "metadata": {},
   "outputs": [
    {
     "output_type": "execute_result",
     "data": {
      "text/plain": [
       "15"
      ]
     },
     "metadata": {},
     "execution_count": 98
    }
   ],
   "source": [
    "abs(int(df[(df.songid == s) & (df.week == df.start_peak)].week_position) - int(df[(df.songid == s) & (df.week == df.start_week)].week_position))\n",
    "# print(df[(df.songid == s) & (df.week == df.start_peak)].week_position)\n",
    "# print(df[(df.songid == s) & (df.week == df.start_week)].week_position)"
   ]
  },
  {
   "source": [
    "# MERGING TOM Gs STUFF"
   ],
   "cell_type": "markdown",
   "metadata": {}
  },
  {
   "cell_type": "code",
   "execution_count": 26,
   "metadata": {},
   "outputs": [
    {
     "output_type": "error",
     "ename": "KeyError",
     "evalue": "\"['weeks_on_chart', 'instance'] not in index\"",
     "traceback": [
      "\u001b[0;31m---------------------------------------------------------------------------\u001b[0m",
      "\u001b[0;31mKeyError\u001b[0m                                  Traceback (most recent call last)",
      "\u001b[0;32m<ipython-input-26-fc172023e85d>\u001b[0m in \u001b[0;36m<module>\u001b[0;34m\u001b[0m\n\u001b[0;32m----> 1\u001b[0;31m \u001b[0mtrain\u001b[0m \u001b[0;34m=\u001b[0m \u001b[0msong_info\u001b[0m\u001b[0;34m.\u001b[0m\u001b[0mcopy\u001b[0m\u001b[0;34m(\u001b[0m\u001b[0;34m)\u001b[0m\u001b[0;34m[\u001b[0m\u001b[0;34m[\u001b[0m\u001b[0;34m'peak'\u001b[0m\u001b[0;34m,\u001b[0m \u001b[0;34m'weeks_on_chart'\u001b[0m\u001b[0;34m,\u001b[0m \u001b[0;34m'weeks_hot'\u001b[0m\u001b[0;34m,\u001b[0m \u001b[0;34m'weeks_to_hot'\u001b[0m\u001b[0;34m,\u001b[0m \u001b[0;34m'instance'\u001b[0m\u001b[0;34m,\u001b[0m \u001b[0;34m'tail_weeks'\u001b[0m \u001b[0;34m]\u001b[0m\u001b[0;34m]\u001b[0m\u001b[0;34m\u001b[0m\u001b[0;34m\u001b[0m\u001b[0m\n\u001b[0m\u001b[1;32m      2\u001b[0m \u001b[0mtrain\u001b[0m\u001b[0;34m\u001b[0m\u001b[0;34m\u001b[0m\u001b[0m\n",
      "\u001b[0;32m~/anaconda3/lib/python3.8/site-packages/pandas/core/frame.py\u001b[0m in \u001b[0;36m__getitem__\u001b[0;34m(self, key)\u001b[0m\n\u001b[1;32m   3028\u001b[0m             \u001b[0;32mif\u001b[0m \u001b[0mis_iterator\u001b[0m\u001b[0;34m(\u001b[0m\u001b[0mkey\u001b[0m\u001b[0;34m)\u001b[0m\u001b[0;34m:\u001b[0m\u001b[0;34m\u001b[0m\u001b[0;34m\u001b[0m\u001b[0m\n\u001b[1;32m   3029\u001b[0m                 \u001b[0mkey\u001b[0m \u001b[0;34m=\u001b[0m \u001b[0mlist\u001b[0m\u001b[0;34m(\u001b[0m\u001b[0mkey\u001b[0m\u001b[0;34m)\u001b[0m\u001b[0;34m\u001b[0m\u001b[0;34m\u001b[0m\u001b[0m\n\u001b[0;32m-> 3030\u001b[0;31m             \u001b[0mindexer\u001b[0m \u001b[0;34m=\u001b[0m \u001b[0mself\u001b[0m\u001b[0;34m.\u001b[0m\u001b[0mloc\u001b[0m\u001b[0;34m.\u001b[0m\u001b[0m_get_listlike_indexer\u001b[0m\u001b[0;34m(\u001b[0m\u001b[0mkey\u001b[0m\u001b[0;34m,\u001b[0m \u001b[0maxis\u001b[0m\u001b[0;34m=\u001b[0m\u001b[0;36m1\u001b[0m\u001b[0;34m,\u001b[0m \u001b[0mraise_missing\u001b[0m\u001b[0;34m=\u001b[0m\u001b[0;32mTrue\u001b[0m\u001b[0;34m)\u001b[0m\u001b[0;34m[\u001b[0m\u001b[0;36m1\u001b[0m\u001b[0;34m]\u001b[0m\u001b[0;34m\u001b[0m\u001b[0;34m\u001b[0m\u001b[0m\n\u001b[0m\u001b[1;32m   3031\u001b[0m \u001b[0;34m\u001b[0m\u001b[0m\n\u001b[1;32m   3032\u001b[0m         \u001b[0;31m# take() does not accept boolean indexers\u001b[0m\u001b[0;34m\u001b[0m\u001b[0;34m\u001b[0m\u001b[0;34m\u001b[0m\u001b[0m\n",
      "\u001b[0;32m~/anaconda3/lib/python3.8/site-packages/pandas/core/indexing.py\u001b[0m in \u001b[0;36m_get_listlike_indexer\u001b[0;34m(self, key, axis, raise_missing)\u001b[0m\n\u001b[1;32m   1264\u001b[0m             \u001b[0mkeyarr\u001b[0m\u001b[0;34m,\u001b[0m \u001b[0mindexer\u001b[0m\u001b[0;34m,\u001b[0m \u001b[0mnew_indexer\u001b[0m \u001b[0;34m=\u001b[0m \u001b[0max\u001b[0m\u001b[0;34m.\u001b[0m\u001b[0m_reindex_non_unique\u001b[0m\u001b[0;34m(\u001b[0m\u001b[0mkeyarr\u001b[0m\u001b[0;34m)\u001b[0m\u001b[0;34m\u001b[0m\u001b[0;34m\u001b[0m\u001b[0m\n\u001b[1;32m   1265\u001b[0m \u001b[0;34m\u001b[0m\u001b[0m\n\u001b[0;32m-> 1266\u001b[0;31m         \u001b[0mself\u001b[0m\u001b[0;34m.\u001b[0m\u001b[0m_validate_read_indexer\u001b[0m\u001b[0;34m(\u001b[0m\u001b[0mkeyarr\u001b[0m\u001b[0;34m,\u001b[0m \u001b[0mindexer\u001b[0m\u001b[0;34m,\u001b[0m \u001b[0maxis\u001b[0m\u001b[0;34m,\u001b[0m \u001b[0mraise_missing\u001b[0m\u001b[0;34m=\u001b[0m\u001b[0mraise_missing\u001b[0m\u001b[0;34m)\u001b[0m\u001b[0;34m\u001b[0m\u001b[0;34m\u001b[0m\u001b[0m\n\u001b[0m\u001b[1;32m   1267\u001b[0m         \u001b[0;32mreturn\u001b[0m \u001b[0mkeyarr\u001b[0m\u001b[0;34m,\u001b[0m \u001b[0mindexer\u001b[0m\u001b[0;34m\u001b[0m\u001b[0;34m\u001b[0m\u001b[0m\n\u001b[1;32m   1268\u001b[0m \u001b[0;34m\u001b[0m\u001b[0m\n",
      "\u001b[0;32m~/anaconda3/lib/python3.8/site-packages/pandas/core/indexing.py\u001b[0m in \u001b[0;36m_validate_read_indexer\u001b[0;34m(self, key, indexer, axis, raise_missing)\u001b[0m\n\u001b[1;32m   1314\u001b[0m             \u001b[0;32mif\u001b[0m \u001b[0mraise_missing\u001b[0m\u001b[0;34m:\u001b[0m\u001b[0;34m\u001b[0m\u001b[0;34m\u001b[0m\u001b[0m\n\u001b[1;32m   1315\u001b[0m                 \u001b[0mnot_found\u001b[0m \u001b[0;34m=\u001b[0m \u001b[0mlist\u001b[0m\u001b[0;34m(\u001b[0m\u001b[0mset\u001b[0m\u001b[0;34m(\u001b[0m\u001b[0mkey\u001b[0m\u001b[0;34m)\u001b[0m \u001b[0;34m-\u001b[0m \u001b[0mset\u001b[0m\u001b[0;34m(\u001b[0m\u001b[0max\u001b[0m\u001b[0;34m)\u001b[0m\u001b[0;34m)\u001b[0m\u001b[0;34m\u001b[0m\u001b[0;34m\u001b[0m\u001b[0m\n\u001b[0;32m-> 1316\u001b[0;31m                 \u001b[0;32mraise\u001b[0m \u001b[0mKeyError\u001b[0m\u001b[0;34m(\u001b[0m\u001b[0;34mf\"{not_found} not in index\"\u001b[0m\u001b[0;34m)\u001b[0m\u001b[0;34m\u001b[0m\u001b[0;34m\u001b[0m\u001b[0m\n\u001b[0m\u001b[1;32m   1317\u001b[0m \u001b[0;34m\u001b[0m\u001b[0m\n\u001b[1;32m   1318\u001b[0m             \u001b[0mnot_found\u001b[0m \u001b[0;34m=\u001b[0m \u001b[0mkey\u001b[0m\u001b[0;34m[\u001b[0m\u001b[0mmissing_mask\u001b[0m\u001b[0;34m]\u001b[0m\u001b[0;34m\u001b[0m\u001b[0;34m\u001b[0m\u001b[0m\n",
      "\u001b[0;31mKeyError\u001b[0m: \"['weeks_on_chart', 'instance'] not in index\""
     ]
    }
   ],
   "source": [
    "train = song_info.copy()[['peak', 'weeks_on_chart', 'weeks_hot', 'weeks_to_hot', 'instance', 'tail_weeks' ]]\n",
    "train"
   ]
  },
  {
   "cell_type": "code",
   "execution_count": null,
   "metadata": {},
   "outputs": [],
   "source": [
    "#Sets a random state so we get the same results every time\n",
    "random_state = 170\n",
    "#for now \n",
    "model = KMeans(n_clusters=10, random_state = random_state)\n",
    "model.fit(train2.to_numpy())\n",
    "all_predictions = model.predict(train2.to_numpy())\n",
    "plt.hist(all_predictions)\n",
    "len(all_predictions)"
   ]
  },
  {
   "cell_type": "code",
   "execution_count": null,
   "metadata": {},
   "outputs": [],
   "source": [
    "#assigns the cluster number to the train dataframe for each corresponding song\n",
    "for i,r in train.iterrows():\n",
    "    train.at[i, 'group'] = all_predictions[i]"
   ]
  },
  {
   "cell_type": "code",
   "execution_count": null,
   "metadata": {},
   "outputs": [],
   "source": [
    "train"
   ]
  },
  {
   "cell_type": "code",
   "execution_count": null,
   "metadata": {},
   "outputs": [],
   "source": [
    "#Gets averages for every cluster/group. This code is definitely not the most efficient way and I will probably redo\n",
    "class Result:\n",
    "    def __init__(self,peak, wc, wh, wth, inst, tail, group):\n",
    "        self.peak = peak\n",
    "        self.wc = wc\n",
    "        self.wh = wh\n",
    "        self.wth = wth\n",
    "        self.inst = inst\n",
    "        self.tail = tail\n",
    "        self.group = group\n",
    "        self.len = 1\n",
    "    def add(self,peak, wc, wh, wth, inst, tail):\n",
    "        self.peak += peak\n",
    "        self.wc += wc\n",
    "        self.wh += wh\n",
    "        self.wth += wth\n",
    "        self.inst += inst\n",
    "        self.tail += tail\n",
    "        self.len += 1\n",
    "    def get(self):\n",
    "        return {\n",
    "            \"peak\": self.peak / self.len,\n",
    "            \"weeks_on_chart\": self.wc / self.len,\n",
    "            \"weeks_hot\" : self.wh / self.len,\n",
    "            'weeks_to_hot' : self.wth / self.len,\n",
    "            'instance' : self.inst / self.len,\n",
    "            'tail_weeks' : self.tail / self.len,\n",
    "            'group' : self.group,\n",
    "            'length' : self.len\n",
    "        }\n",
    "    def display(self):\n",
    "        v = self.get()\n",
    "        return json.dumps(v)\n",
    "cluster = {}\n",
    "for i,r in train.iterrows():\n",
    "    key = r.group\n",
    "    if key in cluster:\n",
    "        cluster[key].add(r.peak, r.weeks_on_chart, r.weeks_hot, r.weeks_to_hot, r.instance, r.tail_weeks)\n",
    "    else:\n",
    "        temp = Result(r.peak, r.weeks_on_chart, r.weeks_hot, r.weeks_to_hot, r.instance, r.tail_weeks, key)\n",
    "        cluster[key] = temp\n",
    "\n",
    "for c in cluster:\n",
    "    print(cluster[c].display())"
   ]
  },
  {
   "cell_type": "code",
   "execution_count": null,
   "metadata": {},
   "outputs": [],
   "source": [
    "from random import sample\n",
    "frames = {}\n",
    "poop = [8,1,4,7]\n",
    "for c in sorted(cluster):\n",
    "    temp = train[train.group == c].songid.values\n",
    "    if len(temp) > 20:\n",
    "        temp = sample(temp.tolist(),20)\n",
    "    ax = plt.gca()\n",
    "    for s in temp:\n",
    "    # for s in df.song.unique(): \n",
    "        df2[df2.songid == s].plot(x='week', y='week_position', ax = ax)\n",
    "        horiz_line_data = np.array([10 for i in range(len(df2[df2.songid == s]))])\n",
    "        plt.plot(df2[df2.songid == s].week, horiz_line_data, 'r') \n",
    "    plt.gca().invert_yaxis()\n",
    "    ax.get_legend().remove()\n",
    "    plt.title(\"Group \" + str(c))\n",
    "    plt.show()"
   ]
  },
  {
   "cell_type": "code",
   "execution_count": null,
   "metadata": {},
   "outputs": [],
   "source": [
    "train[train.group == 0]\n"
   ]
  },
  {
   "cell_type": "code",
   "execution_count": null,
   "metadata": {},
   "outputs": [],
   "source": []
  },
  {
   "cell_type": "code",
   "execution_count": null,
   "metadata": {},
   "outputs": [],
   "source": []
  },
  {
   "cell_type": "markdown",
   "metadata": {},
   "source": [
    "<h3 style=\"text-align: center;\">Insights Attained</h3>"
   ]
  },
  {
   "cell_type": "code",
   "execution_count": null,
   "metadata": {},
   "outputs": [],
   "source": []
  }
 ],
 "metadata": {
  "kernelspec": {
   "name": "python388jvsc74a57bd0215fd660fa78efea83f03590ebf6b614bbd95db2531b39993874bec0ad2c8493",
   "display_name": "Python 3.8.8 64-bit ('base': conda)"
  },
  "language_info": {
   "codemirror_mode": {
    "name": "ipython",
    "version": 3
   },
   "file_extension": ".py",
   "mimetype": "text/x-python",
   "name": "python",
   "nbconvert_exporter": "python",
   "pygments_lexer": "ipython3",
   "version": "3.8.8"
  },
  "metadata": {
   "interpreter": {
    "hash": "aee8b7b246df8f9039afb4144a1f6fd8d2ca17a180786b69acc140d282b71a49"
   }
  }
 },
 "nbformat": 4,
 "nbformat_minor": 2
}