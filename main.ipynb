{
 "cells": [
  {
   "cell_type": "code",
   "execution_count": 20,
   "metadata": {},
   "outputs": [],
   "source": [
    "import pandas as pd\n",
    "import numpy as np\n",
    "from datetime import timedelta"
   ]
  },
  {
   "cell_type": "code",
   "execution_count": null,
   "metadata": {},
   "outputs": [],
   "source": [
    "df = pd.read_csv('https://query.data.world/s/aofqalvgkuabshmmlxm32rxk3t3yiq')"
   ]
  },
  {
   "cell_type": "code",
   "execution_count": 2,
   "metadata": {},
   "outputs": [],
   "source": [
    "df = df.drop(columns=['url'])\n",
    "df = df.rename(columns={'WeekID': 'week', 'Week Position': 'week_position', 'Song': 'song', 'Performer': 'performer', 'SongID': 'songid', 'Instance': 'instance', 'Previous Week Position': 'prev_week_position', 'Peak Position': 'peak_position', 'Weeks on Chart': 'weeks_on_chart'})"
   ]
  },
  {
   "cell_type": "code",
   "execution_count": 3,
   "metadata": {},
   "outputs": [],
   "source": [
    "import datetime\n",
    "df = df.astype({\"week\": 'datetime64'})\n"
   ]
  },
  {
   "cell_type": "code",
   "execution_count": 4,
   "metadata": {},
   "outputs": [],
   "source": [
    "# stuff after 2000\n",
    "df = df[df.week > pd.to_datetime(datetime.date(2000, 1, 1))]\n"
   ]
  },
  {
   "cell_type": "code",
   "execution_count": 5,
   "metadata": {},
   "outputs": [],
   "source": [
    "pks = {}\n",
    "\n",
    "for s in df.songid.unique(): \n",
    "    # order by week, \n",
    "    pks[s] = min(df[df.songid == s].peak_position.unique())\n",
    "\n",
    "df.peak = np.nan\n",
    "for i, r in df.iterrows():\n",
    "    df.at[i, 'peak'] = pks[r['songid']]\n"
   ]
  },
  {
   "cell_type": "code",
   "execution_count": 6,
   "metadata": {},
   "outputs": [],
   "source": [
    "df = df.drop(columns=['peak_position'])\n",
    "df = df[df.peak <= 10]"
   ]
  },
  {
   "cell_type": "code",
   "execution_count": 7,
   "metadata": {},
   "outputs": [
    {
     "data": {
      "image/png": "[encoded data removed]",
      "text/plain": [
       "<Figure size 432x288 with 1 Axes>"
      ]
     },
     "metadata": {
      "needs_background": "light"
     },
     "output_type": "display_data"
    }
   ],
   "source": [
    "import matplotlib.pyplot as plt\n",
    "ax = plt.gca()\n",
    "# for s in df.song.unique(): \n",
    "df[df.song == 'Single Ladies (Put A Ring On It)'].plot(x='week', y='week_position', ax = ax)\n",
    "plt.gca().invert_yaxis()\n",
    "# print(min(pk))"
   ]
  },
  {
   "cell_type": "code",
   "execution_count": 37,
   "metadata": {
    "tags": []
   },
   "outputs": [
    {
     "data": {
      "text/html": [
       "<div>\n",
       "<style scoped>\n",
       "    .dataframe tbody tr th:only-of-type {\n",
       "        vertical-align: middle;\n",
       "    }\n",
       "\n",
       "    .dataframe tbody tr th {\n",
       "        vertical-align: top;\n",
       "    }\n",
       "\n",
       "    .dataframe thead th {\n",
       "        text-align: right;\n",
       "    }\n",
       "</style>\n",
       "<table border=\"1\" class=\"dataframe\">\n",
       "  <thead>\n",
       "    <tr style=\"text-align: right;\">\n",
       "      <th></th>\n",
       "      <th>week</th>\n",
       "      <th>week_position</th>\n",
       "      <th>song</th>\n",
       "      <th>performer</th>\n",
       "      <th>songid</th>\n",
       "      <th>instance</th>\n",
       "      <th>prev_week_position</th>\n",
       "      <th>weeks_on_chart</th>\n",
       "      <th>peak</th>\n",
       "      <th>weeks_to_hot</th>\n",
       "      <th>weeks_hot</th>\n",
       "    </tr>\n",
       "  </thead>\n",
       "  <tbody>\n",
       "    <tr>\n",
       "      <th>17</th>\n",
       "      <td>2019-12-07</td>\n",
       "      <td>11</td>\n",
       "      <td>Dance Monkey</td>\n",
       "      <td>Tones And I</td>\n",
       "      <td>Dance MonkeyTones And I</td>\n",
       "      <td>1.0</td>\n",
       "      <td>19.0</td>\n",
       "      <td>8.0</td>\n",
       "      <td>9.0</td>\n",
       "      <td>9.0</td>\n",
       "      <td>3.0</td>\n",
       "    </tr>\n",
       "    <tr>\n",
       "      <th>22</th>\n",
       "      <td>2005-10-15</td>\n",
       "      <td>11</td>\n",
       "      <td>Run It!</td>\n",
       "      <td>Chris Brown</td>\n",
       "      <td>Run It!Chris Brown</td>\n",
       "      <td>1.0</td>\n",
       "      <td>24.0</td>\n",
       "      <td>8.0</td>\n",
       "      <td>1.0</td>\n",
       "      <td>8.0</td>\n",
       "      <td>1.0</td>\n",
       "    </tr>\n",
       "    <tr>\n",
       "      <th>27</th>\n",
       "      <td>2010-03-27</td>\n",
       "      <td>12</td>\n",
       "      <td>Baby</td>\n",
       "      <td>Justin Bieber Featuring Ludacris</td>\n",
       "      <td>BabyJustin Bieber Featuring Ludacris</td>\n",
       "      <td>1.0</td>\n",
       "      <td>14.0</td>\n",
       "      <td>8.0</td>\n",
       "      <td>5.0</td>\n",
       "      <td>0.0</td>\n",
       "      <td>9.0</td>\n",
       "    </tr>\n",
       "    <tr>\n",
       "      <th>28</th>\n",
       "      <td>2018-04-07</td>\n",
       "      <td>12</td>\n",
       "      <td>Pray For Me</td>\n",
       "      <td>The Weeknd &amp; Kendrick Lamar</td>\n",
       "      <td>Pray For MeThe Weeknd &amp; Kendrick Lamar</td>\n",
       "      <td>1.0</td>\n",
       "      <td>10.0</td>\n",
       "      <td>8.0</td>\n",
       "      <td>7.0</td>\n",
       "      <td>0.0</td>\n",
       "      <td>2.0</td>\n",
       "    </tr>\n",
       "    <tr>\n",
       "      <th>34</th>\n",
       "      <td>2012-09-08</td>\n",
       "      <td>12</td>\n",
       "      <td>Blow Me (One Last Kiss)</td>\n",
       "      <td>P!nk</td>\n",
       "      <td>Blow Me (One Last Kiss)P!nk</td>\n",
       "      <td>1.0</td>\n",
       "      <td>12.0</td>\n",
       "      <td>8.0</td>\n",
       "      <td>5.0</td>\n",
       "      <td>1.0</td>\n",
       "      <td>8.0</td>\n",
       "    </tr>\n",
       "    <tr>\n",
       "      <th>...</th>\n",
       "      <td>...</td>\n",
       "      <td>...</td>\n",
       "      <td>...</td>\n",
       "      <td>...</td>\n",
       "      <td>...</td>\n",
       "      <td>...</td>\n",
       "      <td>...</td>\n",
       "      <td>...</td>\n",
       "      <td>...</td>\n",
       "      <td>...</td>\n",
       "      <td>...</td>\n",
       "    </tr>\n",
       "    <tr>\n",
       "      <th>324811</th>\n",
       "      <td>2015-10-24</td>\n",
       "      <td>38</td>\n",
       "      <td>Same Old Love</td>\n",
       "      <td>Selena Gomez</td>\n",
       "      <td>Same Old LoveSelena Gomez</td>\n",
       "      <td>1.0</td>\n",
       "      <td>48.0</td>\n",
       "      <td>4.0</td>\n",
       "      <td>5.0</td>\n",
       "      <td>11.0</td>\n",
       "      <td>1.0</td>\n",
       "    </tr>\n",
       "    <tr>\n",
       "      <th>324859</th>\n",
       "      <td>2017-10-14</td>\n",
       "      <td>39</td>\n",
       "      <td>...Ready For It?</td>\n",
       "      <td>Taylor Swift</td>\n",
       "      <td>...Ready For It?Taylor Swift</td>\n",
       "      <td>1.0</td>\n",
       "      <td>34.0</td>\n",
       "      <td>4.0</td>\n",
       "      <td>4.0</td>\n",
       "      <td>0.0</td>\n",
       "      <td>19.0</td>\n",
       "    </tr>\n",
       "    <tr>\n",
       "      <th>324869</th>\n",
       "      <td>2011-01-08</td>\n",
       "      <td>39</td>\n",
       "      <td>Rocketeer</td>\n",
       "      <td>Far*East Movement Featuring Ryan Tedder</td>\n",
       "      <td>RocketeerFar*East Movement Featuring Ryan Tedder</td>\n",
       "      <td>1.0</td>\n",
       "      <td>41.0</td>\n",
       "      <td>4.0</td>\n",
       "      <td>7.0</td>\n",
       "      <td>8.0</td>\n",
       "      <td>1.0</td>\n",
       "    </tr>\n",
       "    <tr>\n",
       "      <th>324874</th>\n",
       "      <td>2003-04-05</td>\n",
       "      <td>39</td>\n",
       "      <td>Bring Me To Life</td>\n",
       "      <td>Evanescence Featuring Paul McCoy</td>\n",
       "      <td>Bring Me To LifeEvanescence Featuring Paul McCoy</td>\n",
       "      <td>1.0</td>\n",
       "      <td>43.0</td>\n",
       "      <td>4.0</td>\n",
       "      <td>5.0</td>\n",
       "      <td>8.0</td>\n",
       "      <td>1.0</td>\n",
       "    </tr>\n",
       "    <tr>\n",
       "      <th>324879</th>\n",
       "      <td>2008-11-22</td>\n",
       "      <td>39</td>\n",
       "      <td>Single Ladies (Put A Ring On It)</td>\n",
       "      <td>Beyonce</td>\n",
       "      <td>Single Ladies (Put A Ring On It)Beyonce</td>\n",
       "      <td>1.0</td>\n",
       "      <td>44.0</td>\n",
       "      <td>4.0</td>\n",
       "      <td>1.0</td>\n",
       "      <td>5.0</td>\n",
       "      <td>1.0</td>\n",
       "    </tr>\n",
       "  </tbody>\n",
       "</table>\n",
       "<p>31935 rows × 11 columns</p>\n",
       "</div>"
      ],
      "text/plain": [
       "             week  week_position                              song  \\\n",
       "17     2019-12-07             11                      Dance Monkey   \n",
       "22     2005-10-15             11                           Run It!   \n",
       "27     2010-03-27             12                              Baby   \n",
       "28     2018-04-07             12                       Pray For Me   \n",
       "34     2012-09-08             12           Blow Me (One Last Kiss)   \n",
       "...           ...            ...                               ...   \n",
       "324811 2015-10-24             38                     Same Old Love   \n",
       "324859 2017-10-14             39                  ...Ready For It?   \n",
       "324869 2011-01-08             39                         Rocketeer   \n",
       "324874 2003-04-05             39                  Bring Me To Life   \n",
       "324879 2008-11-22             39  Single Ladies (Put A Ring On It)   \n",
       "\n",
       "                                      performer  \\\n",
       "17                                  Tones And I   \n",
       "22                                  Chris Brown   \n",
       "27             Justin Bieber Featuring Ludacris   \n",
       "28                  The Weeknd & Kendrick Lamar   \n",
       "34                                         P!nk   \n",
       "...                                         ...   \n",
       "324811                             Selena Gomez   \n",
       "324859                             Taylor Swift   \n",
       "324869  Far*East Movement Featuring Ryan Tedder   \n",
       "324874         Evanescence Featuring Paul McCoy   \n",
       "324879                                  Beyonce   \n",
       "\n",
       "                                                  songid  instance  \\\n",
       "17                               Dance MonkeyTones And I       1.0   \n",
       "22                                    Run It!Chris Brown       1.0   \n",
       "27                  BabyJustin Bieber Featuring Ludacris       1.0   \n",
       "28                Pray For MeThe Weeknd & Kendrick Lamar       1.0   \n",
       "34                           Blow Me (One Last Kiss)P!nk       1.0   \n",
       "...                                                  ...       ...   \n",
       "324811                         Same Old LoveSelena Gomez       1.0   \n",
       "324859                      ...Ready For It?Taylor Swift       1.0   \n",
       "324869  RocketeerFar*East Movement Featuring Ryan Tedder       1.0   \n",
       "324874  Bring Me To LifeEvanescence Featuring Paul McCoy       1.0   \n",
       "324879           Single Ladies (Put A Ring On It)Beyonce       1.0   \n",
       "\n",
       "        prev_week_position  weeks_on_chart  peak  weeks_to_hot  weeks_hot  \n",
       "17                    19.0             8.0   9.0           9.0        3.0  \n",
       "22                    24.0             8.0   1.0           8.0        1.0  \n",
       "27                    14.0             8.0   5.0           0.0        9.0  \n",
       "28                    10.0             8.0   7.0           0.0        2.0  \n",
       "34                    12.0             8.0   5.0           1.0        8.0  \n",
       "...                    ...             ...   ...           ...        ...  \n",
       "324811                48.0             4.0   5.0          11.0        1.0  \n",
       "324859                34.0             4.0   4.0           0.0       19.0  \n",
       "324869                41.0             4.0   7.0           8.0        1.0  \n",
       "324874                43.0             4.0   5.0           8.0        1.0  \n",
       "324879                44.0             4.0   1.0           5.0        1.0  \n",
       "\n",
       "[31935 rows x 11 columns]"
      ]
     },
     "execution_count": 37,
     "metadata": {},
     "output_type": "execute_result"
    }
   ],
   "source": [
    "# finding time before peak\n",
    "# find when week_position == peak\n",
    "# find the smallest weekid for my song\n",
    "# subtract\n",
    "\n",
    "# first hot week\n",
    "# df.days_to_hot = np.nan\n",
    "\n",
    "ds = {}\n",
    "th = {}\n",
    "\n",
    "for s in df.songid.unique():\n",
    "    # print(s)\n",
    "    dfs = df[df.songid == s]\n",
    "    if len(dfs[dfs.week_position <= 10].week) == 0: \n",
    "        ds[s] = -1\n",
    "        th[s] = -1\n",
    "    else: \n",
    "        week = 1\n",
    "        first_hot_week = min(dfs[dfs.week_position <= 10].week)\n",
    "        first_week = min(df[df.songid == s].week)\n",
    "        ds[s] = (first_hot_week - first_week).days/7\n",
    "        temp = df[df.songid == s]\n",
    "        time = first_hot_week + timedelta(days=7)\n",
    "        while temp[temp.week == time].week_position.size > 0 and temp[temp.week == time].week_position.values >= 10:\n",
    "            week += 1\n",
    "            time += timedelta(days=7)\n",
    "            \n",
    "        th[s] = week\n",
    "\n",
    "for i, r in df.iterrows(): \n",
    "    df.at[i, 'weeks_to_hot'] = ds[r['songid']]\n",
    "    df.at[i, 'weeks_hot'] = th[r['songid']]\n",
    "df\n"
   ]
  },
  {
   "cell_type": "code",
   "execution_count": 9,
   "metadata": {},
   "outputs": [
    {
     "data": {
      "text/plain": [
       "array([[<AxesSubplot:title={'center':'weeks_to_hot'}>]], dtype=object)"
      ]
     },
     "execution_count": 9,
     "metadata": {},
     "output_type": "execute_result"
    },
    {
     "data": {
      "image/png": "[encoded data removed]",
      "text/plain": [
       "<Figure size 432x288 with 1 Axes>"
      ]
     },
     "metadata": {
      "needs_background": "light"
     },
     "output_type": "display_data"
    }
   ],
   "source": [
    "# df.hist(column='weeks_to_hot')\n",
    "# df.weeks_to_hot.unique()\n",
    "# NOTE MARIah carey all i want for christmas\n",
    "df[df.weeks_to_hot <= 52].hist(column='weeks_to_hot')"
   ]
  },
  {
   "cell_type": "code",
   "execution_count": 40,
   "metadata": {},
   "outputs": [
    {
     "data": {
      "text/plain": [
       "array([[<AxesSubplot:title={'center':'weeks_hot'}>]], dtype=object)"
      ]
     },
     "execution_count": 40,
     "metadata": {},
     "output_type": "execute_result"
    },
    {
     "data": {
      "image/png": "[encoded data removed]",
      "text/plain": [
       "<Figure size 432x288 with 1 Axes>"
      ]
     },
     "metadata": {
      "needs_background": "light"
     },
     "output_type": "display_data"
    }
   ],
   "source": [
    "df[df.weeks_hot <= 25].hist(column='weeks_hot')"
   ]
  },
  {
   "cell_type": "code",
   "execution_count": null,
   "metadata": {},
   "outputs": [],
   "source": []
  },
  {
   "cell_type": "code",
   "execution_count": 14,
   "metadata": {},
   "outputs": [
    {
     "data": {
      "text/plain": [
       "pandas._libs.tslibs.timestamps.Timestamp"
      ]
     },
     "execution_count": 14,
     "metadata": {},
     "output_type": "execute_result"
    }
   ],
   "source": []
  },
  {
   "cell_type": "code",
   "execution_count": 28,
   "metadata": {},
   "outputs": [
    {
     "name": "stdout",
     "output_type": "stream",
     "text": [
      "2015-08-01 00:00:00\n",
      "2015-08-08 00:00:00\n"
     ]
    },
    {
     "data": {
      "text/plain": [
       "22366    85\n",
       "Name: week_position, dtype: int64"
      ]
     },
     "execution_count": 28,
     "metadata": {},
     "output_type": "execute_result"
    }
   ],
   "source": []
  },
  {
   "cell_type": "code",
   "execution_count": null,
   "metadata": {},
   "outputs": [],
   "source": []
  }
 ],
 "metadata": {
  "kernelspec": {
   "display_name": "Python 3",
   "language": "python",
   "name": "python3"
  },
  "language_info": {
   "codemirror_mode": {
    "name": "ipython",
    "version": 3
   },
   "file_extension": ".py",
   "mimetype": "text/x-python",
   "name": "python",
   "nbconvert_exporter": "python",
   "pygments_lexer": "ipython3",
   "version": "3.8.6"
  }
 },
 "nbformat": 4,
 "nbformat_minor": 2
}
