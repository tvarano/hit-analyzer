{
 "cells": [
  {
   "cell_type": "markdown",
   "metadata": {},
   "source": [
    "<h1 style=\"text-align: center;\">Hit Analyzer</h1>\n",
    "<h2 style=\"text-align: center;\">By: Thomas Giewont, Shreyas Vaidya, and Thomas Varano</h2>"
   ]
  },
  {
   "cell_type": "markdown",
   "metadata": {},
   "source": [
    "<br>\n",
    "<h3 style=\"text-align: center;\">Introduction</h3>\n",
    "<p> This is the Introduction. </p>"
   ]
  },
  {
   "cell_type": "markdown",
   "metadata": {},
   "source": [
    "<h3 style=\"text-align: center;\">Imports and Data Setup</h3>"
   ]
  },
  {
   "cell_type": "code",
   "execution_count": 1,
   "metadata": {},
   "outputs": [],
   "source": [
    "import pandas as pd\n",
    "import numpy as np\n",
    "import datetime\n",
    "from datetime import timedelta\n",
    "import matplotlib.pyplot as plt"
   ]
  },
  {
   "cell_type": "markdown",
   "metadata": {},
   "source": [
    "<h3 style=\"text-align: center;\">Data Collection and Curation</h3>"
   ]
  },
  {
   "cell_type": "code",
   "execution_count": 2,
   "metadata": {},
   "outputs": [],
   "source": [
    "df = pd.read_csv('https://query.data.world/s/aofqalvgkuabshmmlxm32rxk3t3yiq')"
   ]
  },
  {
   "cell_type": "code",
   "execution_count": 3,
   "metadata": {},
   "outputs": [],
   "source": [
    "df = df.drop(columns=['url'])\n",
    "df = df.rename(columns={'WeekID': 'week', 'Week Position': 'week_position', 'Song': 'song', 'Performer': 'performer', 'SongID': 'songid', 'Instance': 'instance', 'Previous Week Position': 'prev_week_position', 'Peak Position': 'peak_position', 'Weeks on Chart': 'weeks_on_chart'})"
   ]
  },
  {
   "cell_type": "code",
   "execution_count": 4,
   "metadata": {},
   "outputs": [],
   "source": [
    "df = df.astype({\"week\": 'datetime64'})"
   ]
  },
  {
   "cell_type": "code",
   "execution_count": 5,
   "metadata": {},
   "outputs": [],
   "source": [
    "# stuff after 2000... obvi remove\n",
    "df = df[df.week > pd.to_datetime(datetime.date(2000, 1, 1))]\n"
   ]
  },
  {
   "cell_type": "code",
   "execution_count": 6,
   "metadata": {},
   "outputs": [],
   "source": [
    "# make a copy incase we fuck some data\n",
    "dfcpy = df.copy()"
   ]
  },
  {
   "cell_type": "code",
   "execution_count": 7,
   "metadata": {},
   "outputs": [],
   "source": [
    "# restore df\n",
    "# df = dfcpy.copy()"
   ]
  },
  {
   "cell_type": "markdown",
   "metadata": {},
   "source": [
    "<h3 style=\"text-align: center;\">Data Analysis</h3>"
   ]
  },
  {
   "cell_type": "markdown",
   "metadata": {},
   "source": [
    "#### Hypothesis:\n",
    "We believe that every song follows a similar trend when they reach the Billboard Top 100."
   ]
  },
  {
   "cell_type": "code",
   "execution_count": null,
   "metadata": {},
   "outputs": [],
   "source": [
    "pks = {}\n",
    "\n",
    "for s in df.songid.unique(): \n",
    "    # order by week, \n",
    "    pks[s] = min(df[df.songid == s].peak_position.unique())\n",
    "\n",
    "df.peak = np.nan\n",
    "for i, r in df.iterrows():\n",
    "    df.at[i, 'peak'] = pks[r['songid']]\n"
   ]
  },
  {
   "cell_type": "code",
   "execution_count": null,
   "metadata": {},
   "outputs": [],
   "source": [
    "df = df.drop(columns=['peak_position'])\n",
    "df = df[df.peak <= 10]"
   ]
  },
  {
   "cell_type": "code",
   "execution_count": null,
   "metadata": {},
   "outputs": [],
   "source": [
    "ax = plt.gca()\n",
    "# for s in df.song.unique(): \n",
    "s = 'Nice For WhatDrake'\n",
    "df[df.songid == s].plot(x='week', y='week_position', ax = ax)\n",
    "horiz_line_data = np.array([10 for i in range(len(df[df.songid == s]))])\n",
    "plt.plot(df[df.songid == s].week, horiz_line_data, 'r') \n",
    "plt.gca().invert_yaxis()\n",
    "# print(min(pk))"
   ]
  },
  {
   "cell_type": "code",
   "execution_count": null,
   "metadata": {},
   "outputs": [],
   "source": [
    "# control points col\n",
    "# (start, start_peak, end_peak, end)\n"
   ]
  },
  {
   "cell_type": "code",
   "execution_count": null,
   "metadata": {
    "tags": []
   },
   "outputs": [],
   "source": [
    "# finding time before peak\n",
    "# find when week_position == peak\n",
    "# find the smallest weekid for my song\n",
    "# subtract\n",
    "\n",
    "# first hot week\n",
    "# df.days_to_hot = np.nan\n",
    "\n",
    "control_pts = {}\n",
    "\n",
    "for s in df.songid.unique():\n",
    "\n",
    "    song_instances = df[df.songid == s].sort_values(by='week')\n",
    "\n",
    "    if len(song_instances[song_instances.week_position <= 10].week) != 0: \n",
    "        week = 1\n",
    "        \n",
    "        # get all peaks and their weeks\n",
    "        # inflection points of graph in form: \n",
    "        # tuple (date, begin), where begin is true if the inflection point is beginning a hot spell\n",
    "        inflections = []\n",
    "        longest_peak = []\n",
    "\n",
    "        # if the first week is already in the top 10\n",
    "        if song_instances.iloc[0].week_position <= 10: \n",
    "            inflections.append((song_instances.iloc[0].week, True))\n",
    "\n",
    "\n",
    "        for i in range(1, len(song_instances)): \n",
    "                \n",
    "            if song_instances.iloc[i].week_position <= 10 and song_instances.iloc[i - 1].week_position > 10: \n",
    "                # this is for grace period\n",
    "                if i > 1 and song_instances.iloc[i-2].week_position <= 10: \n",
    "                    # remove the last ending guy\n",
    "                        inflections.remove(inflections[len(inflections) - 1])\n",
    "                else: \n",
    "                    # if not beginning after a grace period, \n",
    "                    inflections.append((song_instances.iloc[i].week, True))\n",
    "            elif song_instances.iloc[i].week_position > 10 and song_instances.iloc[i - 1].week_position <= 10:\n",
    "                inflections.append((song_instances.iloc[i - 1].week, False))\n",
    "   \n",
    "        # if the song finished in the top 10 and dropped off the charts\n",
    "        if song_instances.iloc[len(song_instances) - 1].week_position <= 10: \n",
    "            inflections.append((song_instances.iloc[len(song_instances) - 1].week, False))\n",
    "\n",
    "        for i in range(0, len(inflections)-1):\n",
    "            longest_date = datetime.timedelta(0)\n",
    "            if len(inflections) == 0 or len(inflections) == 1:\n",
    "                longest_peak = inflections\n",
    "            else:\n",
    "                # TODO look for better ways to find relevant peak (eg. height, top position, etc)\n",
    "                if inflections[i][1] is True and inflections[i+1][1] is False:\n",
    "                    if inflections[i+1][0] - inflections[i][0] >= longest_date:\n",
    "                        longest_date = inflections[i+1][0] - inflections[i][0]\n",
    "                        longest_peak = []\n",
    "                        longest_peak.append(inflections[i])\n",
    "                        longest_peak.append(inflections[i+1])\n",
    "\n",
    "            # longest peak is relevant peak we care about\n",
    "\n",
    "        control_pts[s] = (min(song_instances.week), max(song_instances.week), longest_peak[0][0], longest_peak[1][0])\n",
    "    \n",
    "        \n",
    "        # print(s)\n",
    "        # print(longest_peak)         \n",
    "                "
   ]
  },
  {
   "cell_type": "code",
   "execution_count": null,
   "metadata": {},
   "outputs": [],
   "source": [
    "# insert into the df\n",
    "\n",
    "for i, r in df.iterrows(): \n",
    "    # TODO delete the next line when doing whole calc\n",
    "    if r.songid not in control_pts: continue\n",
    "    ctrl_s = control_pts[r.songid]\n",
    "    df.at[i, 'start_week'] = ctrl_s[0]\n",
    "    df.at[i, 'end_week'] = ctrl_s[1]\n",
    "    df.at[i, 'start_peak'] = ctrl_s[2]\n",
    "    df.at[i, 'end_peak'] = ctrl_s[3]"
   ]
  },
  {
   "cell_type": "code",
   "execution_count": null,
   "metadata": {},
   "outputs": [],
   "source": [
    "df"
   ]
  },
  {
   "cell_type": "code",
   "execution_count": null,
   "metadata": {},
   "outputs": [],
   "source": [
    "# using control points, we can calc anything we want. "
   ]
  },
  {
   "cell_type": "code",
   "execution_count": null,
   "metadata": {},
   "outputs": [],
   "source": [
    "# note we had to deal with prince popping back up on the charts after he died (and we might be dead by tomorrowsoko)\n",
    "# dealt with those weirdly\n",
    "# and then also guys that peaked one week and dipped"
   ]
  },
  {
   "cell_type": "code",
   "execution_count": null,
   "metadata": {},
   "outputs": [],
   "source": [
    "# make weeks to hot and weeks hot\n",
    "\n",
    "for i, r in df.iterrows(): \n",
    "    df.at[i, 'weeks_to_hot'] = (r.start_peak - r.start_week).days / 7\n",
    "    df.at[i, 'weeks_hot'] = (r.end_peak - r.start_peak).days / 7\n",
    "    df.at[i, 'tail_weeks'] = (r.end_week - r.end_peak).days / 7\n",
    "\n",
    "df = df.astype({\"weeks_to_hot\": 'float', \"weeks_hot\": 'float', \"tail_weeks\": 'float'})\n"
   ]
  },
  {
   "cell_type": "code",
   "execution_count": null,
   "metadata": {},
   "outputs": [],
   "source": [
    "df."
   ]
  },
  {
   "cell_type": "code",
   "execution_count": null,
   "metadata": {},
   "outputs": [],
   "source": [
    "# a couple graphs to make pretty and look at\n",
    "df[df.weeks_to_hot <= 52].hist(column='weeks_to_hot')\n",
    "df[df.weeks_hot <= 25].hist(column='weeks_hot')\n",
    "df[df.tail_weeks <= 52].hist(column='tail')"
   ]
  },
  {
   "cell_type": "markdown",
   "metadata": {},
   "source": [
    "<h3 style=\"text-align: center;\">Insights Attained</h3>"
   ]
  },
  {
   "cell_type": "code",
   "execution_count": null,
   "metadata": {},
   "outputs": [],
   "source": []
  }
 ],
 "metadata": {
  "kernelspec": {
   "display_name": "Python 3",
   "language": "python",
   "name": "python3"
  },
  "language_info": {
   "codemirror_mode": {
    "name": "ipython",
    "version": 3
   },
   "file_extension": ".py",
   "mimetype": "text/x-python",
   "name": "python",
   "nbconvert_exporter": "python",
   "pygments_lexer": "ipython3",
   "version": "3.8.6"
  },
  "metadata": {
   "interpreter": {
    "hash": "aee8b7b246df8f9039afb4144a1f6fd8d2ca17a180786b69acc140d282b71a49"
   }
  }
 },
 "nbformat": 4,
 "nbformat_minor": 2
}
